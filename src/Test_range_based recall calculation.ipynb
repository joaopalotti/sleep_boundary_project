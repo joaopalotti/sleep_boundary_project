{
 "cells": [
  {
   "cell_type": "code",
   "execution_count": 465,
   "metadata": {},
   "outputs": [],
   "source": [
    "import tempfile\n",
    "import pandas as pd\n",
    "pd.set_option('display.max_rows', 100)\n",
    "\n",
    "import numpy as np\n",
    "import os\n",
    "from tqdm import tqdm\n",
    "from glob import glob\n",
    "from datetime import timedelta\n",
    "import datetime"
   ]
  },
  {
   "cell_type": "code",
   "execution_count": 466,
   "metadata": {},
   "outputs": [],
   "source": [
    "def get_ranges(df, col):\n",
    "    temp = []\n",
    "    return_array = []\n",
    "    for i in range(df.shape[0]):\n",
    "        if(df.loc[i, col] == 1):\n",
    "            temp.append(i)\n",
    "\n",
    "            if i+1 < df.shape[0] and df.loc[i+1, col] != 1:\n",
    "                return_array.append(temp)\n",
    "                temp = []\n",
    "                continue;\n",
    "    return return_array"
   ]
  },
  {
   "cell_type": "code",
   "execution_count": 476,
   "metadata": {},
   "outputs": [],
   "source": [
    "# Data from \n",
    "# https://github.com/IntelLabs/TSAD-Evaluator/tree/master/examples/simple\n",
    "\n",
    "df_pred = pd.read_csv(\"https://raw.githubusercontent.com/IntelLabs/TSAD-Evaluator/master/examples/simple/simple.pred\")\n",
    "df_real = pd.read_csv(\"https://raw.githubusercontent.com/IntelLabs/TSAD-Evaluator/master/examples/simple/simple.real\")\n",
    "\n",
    "\n",
    "\"\"\"\n",
    "Below I tried to calculate classical_recall_T for LSTM-AD testing over the 7 datasets and compare with the recall values in the (figure3.a)\n",
    "The assumptions based on the article: alpha=0, bias=1(flat), gamma=1\n",
    "\n",
    "\"\"\"\n",
    "# # Twitter AAPL-lstm data\n",
    "# df_pred = pd.read_csv(\"https://raw.githubusercontent.com/IntelLabs/TSAD-Evaluator/master/examples/aapl/lstm_ad.pred\")\n",
    "# df_real = pd.read_csv(\"https://raw.githubusercontent.com/IntelLabs/TSAD-Evaluator/master/examples/aapl/lstm_ad.real\")\n",
    "\n",
    "# timeguided_lstm data\n",
    "# df_pred = pd.read_csv(\"https://raw.githubusercontent.com/IntelLabs/TSAD-Evaluator/master/examples/timeguided/lstm_ad.pred\")\n",
    "# df_real = pd.read_csv(\"https://raw.githubusercontent.com/IntelLabs/TSAD-Evaluator/master/examples/timeguided/lstm_ad.real\")\n",
    "\n",
    "# # ecg_lstm data\n",
    "# df_pred = pd.read_csv(\"https://raw.githubusercontent.com/IntelLabs/TSAD-Evaluator/master/examples/ecg/lstm_ad.pred\")\n",
    "# df_real = pd.read_csv(\"https://raw.githubusercontent.com/IntelLabs/TSAD-Evaluator/master/examples/ecg/lstm_ad.real\")\n",
    "\n",
    "# # spaceshuttle_lstm data\n",
    "# df_pred = pd.read_csv(\"https://raw.githubusercontent.com/IntelLabs/TSAD-Evaluator/master/examples/space_shuttle/lstm_ad.pred\")\n",
    "# df_real = pd.read_csv(\"https://raw.githubusercontent.com/IntelLabs/TSAD-Evaluator/master/examples/space_shuttle/lstm_ad.real\")\n",
    "\n",
    "# # sine_lstm data\n",
    "# df_pred = pd.read_csv(\"https://raw.githubusercontent.com/IntelLabs/TSAD-Evaluator/master/examples/sine/lstm_ad.pred\")\n",
    "# df_real = pd.read_csv(\"https://raw.githubusercontent.com/IntelLabs/TSAD-Evaluator/master/examples/sine/lstm_ad.real\")\n",
    "\n",
    "# # nyc taxi_lstm data\n",
    "# df_pred = pd.read_csv(\"https://raw.githubusercontent.com/IntelLabs/TSAD-Evaluator/master/examples/nyc_taxi/lstm_ad.pred\")\n",
    "# df_real = pd.read_csv(\"https://raw.githubusercontent.com/IntelLabs/TSAD-Evaluator/master/examples/nyc_taxi/lstm_ad.real\")\n",
    "\n",
    "# # machine_temp_lstm data\n",
    "# df_pred = pd.read_csv(\"https://raw.githubusercontent.com/IntelLabs/TSAD-Evaluator/master/examples/machine_temp/lstm_ad.pred\")\n",
    "# df_real = pd.read_csv(\"https://raw.githubusercontent.com/IntelLabs/TSAD-Evaluator/master/examples/machine_temp/lstm_ad.real\")\n",
    "\n",
    "    \n",
    "ranges_pred = get_ranges(df_pred, \"0\")\n",
    "ranges_real = get_ranges(df_real, \"0\")\n",
    "\n",
    "predicted_anomaly_ranges = ranges_pred\n",
    "real_anomaly_range = ranges_real\n",
    "\n"
   ]
  },
  {
   "cell_type": "code",
   "execution_count": 477,
   "metadata": {},
   "outputs": [],
   "source": [
    "# # Make a synthesized dataframe for gt and predict\n",
    "\n",
    "# df_PSG = pd.DataFrame({\n",
    "#     'linetime': pd.date_range(start='2017-01-04 1:00:00', end = '2017-01-04 3:00:00', freq='30S')\n",
    "# })\n",
    "\n",
    "# df_predict = pd.DataFrame({\n",
    "#     'linetime': pd.date_range(start='2017-01-04 1:00:00', end = '2017-01-04 3:00:00', freq='30S')\n",
    "# })\n",
    "\n",
    "# \"\"\"\n",
    "# # Add labels wake:0/sleep:1 --> lets assume sleep labels are anomalies!\n",
    "# # Adding 2 sleep periods [1:30_1:50, 2:30_2:45]\n",
    "# \"\"\"\n",
    "\n",
    "# df_PSG ['w/s'] = 0\n",
    "# df_predict ['w/s'] = 0\n",
    "\n",
    "# #define sleep periods for PSG\n",
    "# i = 60\n",
    "# j = 100\n",
    "# for c in range(i, j+1):\n",
    "#     df_PSG.at[c, 'w/s'] = 1\n",
    "    \n",
    "# i = 180\n",
    "# j = 210\n",
    "# for c in range(i, j+1):\n",
    "#     df_PSG.at[c, 'w/s'] = 1\n",
    "# # df_PSG.loc[99:103]\n",
    "\n",
    "\n",
    "# # define sleep periods for prediction\n",
    "# i = 70\n",
    "# j = 110\n",
    "# for c in range(i, j+1):\n",
    "#     df_predict.at[c, 'w/s'] = 1\n",
    "\n",
    "# i = 170\n",
    "# j = 200\n",
    "# for c in range(i, j+1):\n",
    "#     df_predict.at[c, 'w/s'] = 1\n",
    "    \n"
   ]
  },
  {
   "cell_type": "code",
   "execution_count": 478,
   "metadata": {},
   "outputs": [],
   "source": [
    "# import matplotlib.pyplot as plt\n",
    "\n",
    "# plt.plot(df_PSG['linetime'], df_PSG['w/s'])\n",
    "# plt.plot(df_predict['linetime'], df_predict['w/s'])"
   ]
  },
  {
   "cell_type": "code",
   "execution_count": 479,
   "metadata": {},
   "outputs": [],
   "source": [
    "# predicted_anomaly_ranges = get_ranges(df_predict, 'w/s')\n",
    "# real_anomaly_range = get_ranges(df_PSG, 'w/s')\n"
   ]
  },
  {
   "cell_type": "code",
   "execution_count": 480,
   "metadata": {},
   "outputs": [],
   "source": [
    "#assuming that we have no bias\n",
    "# bias = 1\n",
    "def positional_bias(i, anomaly_len, kind = \"flat\"):\n",
    "    if(kind == \"flat\"):\n",
    "        return 1\n",
    "    elif(kind == \"front\"):\n",
    "        return anomaly_len - i +1\n",
    "    elif(kind == \"back\"):\n",
    "        return i\n",
    "    elif(kind == \"middle\"):\n",
    "        if (i <= anomaly_len/2 ):\n",
    "            return i\n",
    "        else:\n",
    "            return anomaly_len - i +1\n",
    "        \n",
    "\n",
    "def w(r, overlap_set, bias_kind = \"flat\"):\n",
    "\n",
    "    max_val = 0\n",
    "    my_val = 0\n",
    "    \n",
    "    for i in range(len(r)):\n",
    "        bias = positional_bias(i, len(r), kind = bias_kind)\n",
    "        max_val = max_val + bias\n",
    "        if(r[i] in overlap_set):\n",
    "            my_val = my_val + bias\n",
    "            \n",
    "    return my_val/max_val\n",
    "    #usage: w([2,3,4,5], [4,5]) --> returns 0.5 \n",
    "\n",
    "    \n",
    "    \n",
    "#lets assume gamma function in the simplest way\n",
    "def gamma(x):\n",
    "    if(x != 0):\n",
    "        return 1/x\n",
    "\n",
    "\n",
    "\n",
    "def cardinality_factor(r, predicted_anomaly_ranges):\n",
    "    x = 0\n",
    "    \n",
    "    if(r in predicted_anomaly_ranges): # the prediction is exactly the same as real\n",
    "        return 1\n",
    "    \n",
    "    else:\n",
    "        #  lets figure out that how many predicted ranges including r elements\n",
    "        for predict in predicted_anomaly_ranges:\n",
    "            if( all(item in r for item in predict) ): #the r is the subset of one predioction period\n",
    "                return 1\n",
    "            if (any(i in r for i in predict) ):\n",
    "                x += 1\n",
    "        if(x == 0):\n",
    "            return 0\n",
    "        else:\n",
    "            return gamma(x)\n",
    "        #usage: cardinality_factor([2,3,4], [[1,2], [3,5,6], [0,8]]) --> returns 0.5\n",
    "    \n",
    "\n",
    "def overlap(r, p):\n",
    "    overlap_set = list(set(p) & set(r)) \n",
    "    \n",
    "    return overlap_set #return an empty list if it doesn't found any element in common\n",
    "    \n",
    "    \n",
    "\n",
    "def overlap_reward(r, predicted_anomaly_ranges):\n",
    "    cardinality = cardinality_factor(r, predicted_anomaly_ranges)\n",
    "    sum_weight = 0\n",
    "    \n",
    "    for predict in predicted_anomaly_ranges:\n",
    "        \n",
    "        overlap_set = overlap(r, predict) \n",
    "        weight = w(r, overlap_set, bias_kind = \"flat\")\n",
    "#         weight = w(r, overlap_set, bias_kind = \"front\")\n",
    "        sum_weight = sum_weight + weight \n",
    "        \n",
    "    return cardinality*sum_weight\n",
    "    #usage overlap_reward([2,3,4,0,8], [[1,2], [3,5,6], [0,8]]) --> returns 0.26\n",
    "    "
   ]
  },
  {
   "cell_type": "code",
   "execution_count": 481,
   "metadata": {},
   "outputs": [],
   "source": [
    "def existence_reward(r, predicted_anomaly_ranges):\n",
    "    for predict in predicted_anomaly_ranges:\n",
    "        if (any(i in r for i in predict) ):\n",
    "                return 1\n",
    "    return 0\n",
    "        \n",
    "        \n",
    "alpha = 0.5 # the importance of rewarding existence\n",
    "\n",
    "\n",
    "def recall(real_anomaly_range, predicted_anomaly_ranges, alpha= 0.5):\n",
    "    total_recall = 0 \n",
    "    for r in real_anomaly_range:\n",
    "        recall_t = ( alpha*existence_reward(r, predicted_anomaly_ranges) ) + ( (1-alpha)*overlap_reward(r, predicted_anomaly_ranges))     \n",
    "        total_recall = total_recall + recall_t\n",
    "        \n",
    "    return total_recall/len(real_anomaly_range)\n",
    "    # usage: recall([[1,2,3,4], [10,11,12]], [[1,2], [3,5,6], [8,9], [10,11]], alpha = 0.5) --> returns 0.17\n",
    "        \n",
    "        \n",
    "        "
   ]
  },
  {
   "cell_type": "code",
   "execution_count": 482,
   "metadata": {},
   "outputs": [
    {
     "data": {
      "text/plain": [
       "0.5"
      ]
     },
     "execution_count": 482,
     "metadata": {},
     "output_type": "execute_result"
    }
   ],
   "source": [
    "recall(real_anomaly_range, predicted_anomaly_ranges, alpha= 0)\n"
   ]
  },
  {
   "cell_type": "code",
   "execution_count": 483,
   "metadata": {},
   "outputs": [],
   "source": [
    "# Desired output:\n",
    "\n",
    "# (base) [21:22:13 donna:~/github/TSAD-Evaluator/src]$ ./evaluate -v -t ../examples/simple/simple.real ../examples/simple/simple.pred 1 0 reciprocal flat front\n",
    "# Real Anomalies:\n",
    "# [20, 21]\n",
    "# [25, 27]\n",
    "# [44, 47]\n",
    "# Predicted Anomalies:\n",
    "# [19, 20]\n",
    "# [23, 30]\n",
    "# [37, 37]\n",
    "# [49, 49]\n",
    "# Precision = 0.21875\n",
    "# Recall = 0.555556\n",
    "# F-Score = 0.313901\n",
    "\n",
    "\n",
    "# recall(ranges_real, ranges_pred, alpha = 0.5)\n"
   ]
  },
  {
   "cell_type": "markdown",
   "metadata": {},
   "source": [
    "# Precision "
   ]
  },
  {
   "cell_type": "code",
   "execution_count": 485,
   "metadata": {},
   "outputs": [],
   "source": [
    "def precision(real_anomaly_range, predicted_anomaly_ranges):\n",
    "    total_precision = 0 \n",
    "    for p in predicted_anomaly_ranges:\n",
    "        precision_t = overlap_reward(p, real_anomaly_range)    \n",
    "        total_precision = total_precision + precision_t \n",
    "        \n",
    "    return total_precision/len(predicted_anomaly_ranges)\n",
    "\n",
    "\n"
   ]
  },
  {
   "cell_type": "code",
   "execution_count": 486,
   "metadata": {},
   "outputs": [
    {
     "data": {
      "text/plain": [
       "0.2916666666666667"
      ]
     },
     "execution_count": 486,
     "metadata": {},
     "output_type": "execute_result"
    }
   ],
   "source": [
    "precision(real_anomaly_range, predicted_anomaly_ranges)\n"
   ]
  },
  {
   "cell_type": "code",
   "execution_count": 490,
   "metadata": {},
   "outputs": [
    {
     "data": {
      "text/plain": [
       "0.5"
      ]
     },
     "execution_count": 490,
     "metadata": {},
     "output_type": "execute_result"
    }
   ],
   "source": [
    "real_anomaly_range = [[1,2,3], [10,11,12]]\n",
    "predicted_anomaly_ranges = [[1,2,3], [4,5,6]]\n",
    "\n",
    "precision(real_anomaly_range, predicted_anomaly_ranges)"
   ]
  },
  {
   "cell_type": "code",
   "execution_count": null,
   "metadata": {},
   "outputs": [],
   "source": []
  }
 ],
 "metadata": {
  "kernelspec": {
   "display_name": "Python 3",
   "language": "python",
   "name": "python3"
  },
  "language_info": {
   "codemirror_mode": {
    "name": "ipython",
    "version": 3
   },
   "file_extension": ".py",
   "mimetype": "text/x-python",
   "name": "python",
   "nbconvert_exporter": "python",
   "pygments_lexer": "ipython3",
   "version": "3.8.5"
  }
 },
 "nbformat": 4,
 "nbformat_minor": 4
}
