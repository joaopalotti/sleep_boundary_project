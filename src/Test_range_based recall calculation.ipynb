{
 "cells": [
  {
   "cell_type": "code",
   "execution_count": 1,
   "metadata": {},
   "outputs": [],
   "source": [
    "import tempfile\n",
    "import pandas as pd\n",
    "pd.set_option('display.max_rows', 100)\n",
    "\n",
    "import numpy as np\n",
    "import os\n",
    "from tqdm import tqdm\n",
    "from glob import glob\n",
    "from datetime import timedelta\n",
    "import datetime"
   ]
  },
  {
   "cell_type": "code",
   "execution_count": 174,
   "metadata": {},
   "outputs": [],
   "source": [
    "# Make a synthesized dataframe for gt and predict\n",
    "\n",
    "df_PSG = pd.DataFrame({\n",
    "    'linetime': pd.date_range(start='2017-01-04 1:00:00', end = '2017-01-04 3:00:00', freq='30S')\n",
    "})\n",
    "\n",
    "df_predict = pd.DataFrame({\n",
    "    'linetime': pd.date_range(start='2017-01-04 1:00:00', end = '2017-01-04 3:00:00', freq='30S')\n",
    "})\n",
    "\n",
    "\"\"\"\n",
    "# Add labels wake:0/sleep:1 --> lets assume sleep labels are anomalies!\n",
    "# Adding 2 sleep periods [1:30_1:50, 2:30_2:45]\n",
    "\"\"\"\n",
    "\n",
    "df_PSG ['w/s'] = 0\n",
    "df_predict ['w/s'] = 0\n",
    "\n",
    "#define sleep periods for PSG\n",
    "i = 60\n",
    "j = 100\n",
    "for c in range(i, j+1):\n",
    "    df_PSG.at[c, 'w/s'] = 1\n",
    "    \n",
    "i = 180\n",
    "j = 210\n",
    "for c in range(i, j+1):\n",
    "    df_PSG.at[c, 'w/s'] = 1\n",
    "# df_PSG.loc[99:103]\n",
    "\n",
    "\n",
    "# define sleep periods for prediction\n",
    "i = 70\n",
    "j = 110\n",
    "for c in range(i, j+1):\n",
    "    df_predict.at[c, 'w/s'] = 1\n",
    "\n",
    "i = 170\n",
    "j = 200\n",
    "for c in range(i, j+1):\n",
    "    df_predict.at[c, 'w/s'] = 1\n",
    "    \n"
   ]
  },
  {
   "cell_type": "code",
   "execution_count": 175,
   "metadata": {},
   "outputs": [
    {
     "data": {
      "text/plain": [
       "[<matplotlib.lines.Line2D at 0x7fdb216c32e0>]"
      ]
     },
     "execution_count": 175,
     "metadata": {},
     "output_type": "execute_result"
    },
    {
     "data": {
      "image/png": "[encoded data removed]",
      "text/plain": [
       "<Figure size 432x288 with 1 Axes>"
      ]
     },
     "metadata": {
      "needs_background": "light"
     },
     "output_type": "display_data"
    }
   ],
   "source": [
    "import matplotlib.pyplot as plt\n",
    "\n",
    "plt.plot(df_PSG['linetime'], df_PSG['w/s'])\n",
    "plt.plot(df_predict['linetime'], df_predict['w/s'])"
   ]
  },
  {
   "cell_type": "code",
   "execution_count": 176,
   "metadata": {},
   "outputs": [],
   "source": [
    "# make a list of indexes that shows sleep(or anomaly) in prediction labels\n",
    "predicted_anomaly_ranges = []\n",
    "temp = []\n",
    "\n",
    "for i in range(len(df_predict)):\n",
    "    if(df_predict.loc[i,'w/s'] == 1):\n",
    "        temp.append(i)\n",
    "        \n",
    "        if(df_predict.loc[i+1,'w/s'] != 1):\n",
    "            predicted_anomaly_ranges.append(temp)\n",
    "            temp = []\n",
    "            continue;\n",
    "\n",
    "            \n",
    "# make a list of indexes that shows sleep(or anomaly) in GT labels\n",
    "real_anomaly_range = []\n",
    "temp = []\n",
    "\n",
    "for i in range(len(df_PSG)):\n",
    "    if(df_PSG.loc[i,'w/s'] == 1):\n",
    "        temp.append(i)\n",
    "        \n",
    "        if(df_PSG.loc[i+1,'w/s'] != 1):\n",
    "            real_anomaly_range.append(temp)\n",
    "            temp = []\n",
    "            continue;"
   ]
  },
  {
   "cell_type": "code",
   "execution_count": 177,
   "metadata": {},
   "outputs": [],
   "source": [
    "#real_anomaly_range"
   ]
  },
  {
   "cell_type": "code",
   "execution_count": 178,
   "metadata": {},
   "outputs": [],
   "source": [
    "#assuming we have no bias\n",
    "bias = 1\n",
    "\n",
    "\n",
    "def w(r, overlap_set, bias = 1):\n",
    "    max_val = 0\n",
    "    my_val = 0\n",
    "    \n",
    "    for i in range(len(r)):\n",
    "        max_val = max_val + bias\n",
    "        if(r[i] in overlap_set):\n",
    "            my_val = my_val + bias\n",
    "            \n",
    "    return my_val/max_val\n",
    "    #usage: w([2,3,4,5], [4,5]) --> returns 0.5 \n",
    "\n",
    "    \n",
    "    \n",
    "#lets assume gamma function in the simplest way\n",
    "def gamma(x):\n",
    "    return 1/x\n",
    "\n",
    "\n",
    "\n",
    "#recall_cardinality factor\n",
    "def recall_cardinality_factor(r, predicted_anomaly_ranges):\n",
    "    x = 0\n",
    "    if(r in predicted_anomaly_ranges):\n",
    "        return 1\n",
    "    else:\n",
    "        #  lets figure out that how many predicted ranges including r elements\n",
    "        for predict in predicted_anomaly_ranges:\n",
    "            if (any(i in r for i in predict) ):\n",
    "                x += 1\n",
    "        \n",
    "        return gamma(x)\n",
    "        #usage: recall_cardinality_factor([2,3,4], [[1,2], [3,5,6], [0,8]]) --> returns 0.5\n",
    "    \n",
    "    \n",
    "# recall_overlap_reward\n",
    "def recall_overlap_reward(r, predicted_anomaly_ranges):\n",
    "    cardinality = recall_cardinality_factor(r, predicted_anomaly_ranges)\n",
    "    sum_weight = 0\n",
    "    \n",
    "    for predict in predicted_anomaly_ranges:\n",
    "        \n",
    "        overlap_set = list(set(predict) & set(r)) #calculate overlap_set for r with prediction \n",
    "        weight = w(r, overlap_set, bias = 1)\n",
    "        sum_weight = sum_weight + weight \n",
    "        \n",
    "    return cardinality*sum_weight\n",
    "    #usage recall_overlap_reward([2,3,4,0,8], [[1,2], [3,5,6], [0,8]]) --> returns 0.26\n",
    "    "
   ]
  },
  {
   "cell_type": "code",
   "execution_count": 179,
   "metadata": {},
   "outputs": [],
   "source": [
    "def existence_reward(r, predicted_anomaly_ranges):\n",
    "#first make a unify list for all ranges to check for availability of r in it\n",
    "    all_predict = []\n",
    "    cnt = 0\n",
    "    for i in range(len(predicted_anomaly_ranges)):\n",
    "        all_predict.extend(predicted_anomaly_ranges[i])\n",
    "    \n",
    "    for i in range(len(r)):\n",
    "        #if that value exist in anomaly detection. the counter will be increased\n",
    "        if (r[i] in all_predict):\n",
    "            cnt += 1\n",
    "    if(cnt == len(r)):\n",
    "        return 1\n",
    "    else:   \n",
    "        return 0\n",
    "    #usage: existence_reward([2,3,4,5], [[1,2], [4,5,6]]) --> return 0\n",
    "        #   existence_reward([2,3,4,5], [[1,2], [3,4,5,6]]) --> return 1\n",
    "        \n",
    "\n",
    "        \n",
    "        \n",
    "alpha = 0.5 #relative importance of rewarding existence\n",
    "# we can tune it later\n",
    "\n",
    "def recall(real_anomaly_range, predicted_anomaly_ranges, alpha= 0.5):\n",
    "    total_recall = 0 \n",
    "    for r in real_anomaly_range:\n",
    "        recall_r = ( alpha*existence_reward(r, predicted_anomaly_ranges) ) + ( (1-alpha)*recall_overlap_reward(r, predicted_anomaly_ranges))     \n",
    "        total_recall = total_recall + recall_r\n",
    "        \n",
    "    return total_recall/len(real_anomaly_range)\n",
    "    # usage: recall([[1,2,3,4], [10,11,12]], [[1,2], [3,5,6], [8,9], [10,11]], alpha = 0.5) --> returns 0.17\n",
    "        \n",
    "        \n",
    "        "
   ]
  },
  {
   "cell_type": "code",
   "execution_count": 180,
   "metadata": {},
   "outputs": [
    {
     "data": {
      "text/plain": [
       "1.0"
      ]
     },
     "execution_count": 180,
     "metadata": {},
     "output_type": "execute_result"
    }
   ],
   "source": [
    "recall(real_anomaly_range, predicted_anomaly_ranges, alpha= 0.5)\n"
   ]
  },
  {
   "cell_type": "markdown",
   "metadata": {},
   "source": [
    "# Precision "
   ]
  },
  {
   "cell_type": "code",
   "execution_count": 186,
   "metadata": {},
   "outputs": [],
   "source": [
    "## Do I have to continue???\n",
    "\n",
    "#precision_cardinality factor\n",
    "def precision_cardinality_factor(p, real_anomaly_range):\n",
    "    x = 0\n",
    "    if(p in real_anomaly_range):\n",
    "        return 1\n",
    "    else:\n",
    "        #  lets figure out that how many of real ranges including p elements\n",
    "        for real in real_anomaly_range:\n",
    "            if (any(i in p for i in real) ):\n",
    "                x += 1\n",
    "        \n",
    "        return gamma(x)\n",
    "        #usage: recall_cardinality_factor([2,3,4], [[1,2], [3,5,6], [0,8]]) --> returns 0.5\n",
    "    \n",
    "    \n",
    "# recall_overlap_reward\n",
    "def precision_overlap_reward(p, real_anomaly_range):\n",
    "    cardinality = precision_cardinality_factor(p, real_anomaly_range)\n",
    "    sum_weight = 0\n",
    "    \n",
    "    for real in real_anomaly_range:\n",
    "        \n",
    "        overlap_set = list(set(real) & set(p)) \n",
    "        weight = w(p, overlap_set, bias = 1)\n",
    "        sum_weight = sum_weight + weight \n",
    "        \n",
    "    return cardinality*sum_weight\n",
    "    #usage recall_overlap_reward([2,3,4,0,8], [[1,2], [3,5,6], [0,8]]) --> returns 0.26\n",
    "    "
   ]
  },
  {
   "cell_type": "code",
   "execution_count": 187,
   "metadata": {},
   "outputs": [],
   "source": [
    "# def precision(real_anomaly_range, predicted_anomaly_ranges, alpha= 0.5):\n",
    "#     total_precision = 0 \n",
    "#     for p in predicted_anomaly_ranges:\n",
    "#         precision_cardinality = precision_cardinality_factor(p, real_anomaly_range)\n",
    "#         precision_p = recall_overlap_reward\n",
    "#         total_precision = total_precision + precision_p\n",
    "        \n",
    "#     return total_precision/len(predicted_anomaly_ranges)\n"
   ]
  },
  {
   "cell_type": "code",
   "execution_count": null,
   "metadata": {},
   "outputs": [],
   "source": []
  }
 ],
 "metadata": {
  "kernelspec": {
   "display_name": "Python 3",
   "language": "python",
   "name": "python3"
  },
  "language_info": {
   "codemirror_mode": {
    "name": "ipython",
    "version": 3
   },
   "file_extension": ".py",
   "mimetype": "text/x-python",
   "name": "python",
   "nbconvert_exporter": "python",
   "pygments_lexer": "ipython3",
   "version": "3.8.5"
  }
 },
 "nbformat": 4,
 "nbformat_minor": 4
}
