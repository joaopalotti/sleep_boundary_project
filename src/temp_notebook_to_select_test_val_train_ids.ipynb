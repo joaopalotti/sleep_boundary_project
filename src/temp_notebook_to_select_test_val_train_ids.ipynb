{
 "cells": [
  {
   "cell_type": "code",
   "execution_count": 16,
   "metadata": {},
   "outputs": [],
   "source": [
    "import pandas as pd\n",
    "import os\n",
    "from glob import glob"
   ]
  },
  {
   "cell_type": "code",
   "execution_count": 17,
   "metadata": {},
   "outputs": [],
   "source": [
    "def read_file(filename):\n",
    "    df = pd.read_csv(filename)\n",
    "    df[\"sleep\"] = df[\"stages\"] > 0\n",
    "    df[\"linetime\"] = pd.to_datetime(df[\"linetime\"])\n",
    "    return df"
   ]
  },
  {
   "cell_type": "code",
   "execution_count": 18,
   "metadata": {},
   "outputs": [],
   "source": [
    "def generate_slide_wins(df, winsize=11):\n",
    "    \n",
    "    seq_id = 0\n",
    "    transformed_df = []\n",
    "    list_of_indexes=[] \n",
    "    labels_5min = []\n",
    "    labels_0min = []\n",
    "    linetime = []\n",
    "    activity = []\n",
    "    mean_hr = []\n",
    "    \n",
    "    df.index.to_series().rolling(winsize, center=True).apply((lambda x: list_of_indexes.append(x.tolist()) or 0), raw=False)\n",
    "    \n",
    "    \n",
    "    for idx in list_of_indexes:\n",
    "        # to Do: this column name \"ground truth\" shuld be changed later\n",
    "        labels_5min.append(df.iloc[idx].iloc[winsize//2][\"ground_truth_5min\"]) #take the middle value of the window \n",
    "        labels_0min.append(df.iloc[idx].iloc[winsize//2][\"ground_truth_0min\"]) #take the middle value of the window\n",
    "        linetime.append(df.iloc[idx].iloc[winsize//2][\"linetime\"])   #we need this for sleep metrics calculation later\n",
    "        activity.append(df.iloc[idx].iloc[winsize//2][\"activity\"])   #we need this for sleep metrics calculation later\n",
    "        mean_hr.append(df.iloc[idx].iloc[winsize//2][\"mean_hr\"])\n",
    "        \n",
    "        tmp_df = df.iloc[idx].copy()\n",
    "        tmp_df[\"seq_id\"] = seq_id\n",
    "        seq_id += 1\n",
    "        transformed_df.append(tmp_df)\n",
    "\n",
    "    return pd.concat(transformed_df), pd.Series(labels_5min), pd.Series(labels_0min),pd.Series(linetime), pd.Series(activity), pd.Series(mean_hr)\n",
    "\n"
   ]
  },
  {
   "cell_type": "code",
   "execution_count": null,
   "metadata": {},
   "outputs": [],
   "source": [
    "input_files = glob(\"../data/Processed_Mesa_gt_WithandWithout_tolerance/*.csv.gz\")\n",
    "all_ys_5min = []\n",
    "all_ys_0min = []\n",
    "all_ids = []\n",
    "all_linetime = []\n",
    "all_activity = []\n",
    "all_mean_hr = []\n",
    "\n",
    "\n",
    "# Read files and roll 21 windows\n",
    "for file in input_files:\n",
    "    df = read_file(file)\n",
    "#     print(\"find Nans\",df.isnull().sum())\n",
    "    transformed_df, labels_5min, labels_0min, linetime, activity, mean_hr = generate_slide_wins(df, 21)\n",
    "\n",
    "    \n",
    "    ids = pd.Series(labels_5min.shape[0]*[df[\"mesaid\"].unique()[0]])\n",
    "    \n",
    "    all_ids.append(ids)\n",
    "    all_ys_5min.append(labels_5min)\n",
    "    all_ys_0min.append(labels_0min)\n",
    "    all_linetime.append(linetime)\n",
    "    all_activity.append(activity)\n",
    "    all_mean_hr.append(mean_hr)\n",
    "\n",
    "\n",
    "\n",
    "\n",
    "    "
   ]
  },
  {
   "cell_type": "code",
   "execution_count": null,
   "metadata": {},
   "outputs": [],
   "source": [
    "all_ids = pd.concat(all_ids)\n",
    "all_ys_5min = pd.concat(all_ys_5min)\n",
    "all_ys_0min = pd.concat(all_ys_0min)\n",
    "all_linetime = pd.concat(all_linetime)\n",
    "# all_features = pd.concat(all_features)\n",
    "all_activity = pd.concat(all_activity)\n",
    "all_mean_hr = pd.concat(all_mean_hr)\n",
    "\n",
    "# give name to columns \n",
    "all_ids = pd.DataFrame(all_ids)\n",
    "all_ids.columns = ['id']\n",
    "\n",
    "all_ys_5min = pd.DataFrame(all_ys_5min)\n",
    "all_ys_5min.columns = ['label_5min']\n",
    "\n",
    "all_ys_0min = pd.DataFrame(all_ys_0min)\n",
    "all_ys_0min.columns = ['label_0min']\n",
    "\n",
    "all_linetime = pd.DataFrame(all_linetime)\n",
    "all_linetime.columns = ['linetime']\n",
    "\n",
    "all_activity = pd.DataFrame(all_activity)\n",
    "all_activity.columns = ['activity']\n",
    "\n",
    "all_mean_hr = pd.DataFrame(all_mean_hr)\n",
    "all_mean_hr.columns = ['mean_hr']"
   ]
  },
  {
   "cell_type": "code",
   "execution_count": 14,
   "metadata": {},
   "outputs": [
    {
     "ename": "NameError",
     "evalue": "name 'all_ids' is not defined",
     "output_type": "error",
     "traceback": [
      "\u001b[0;31m---------------------------------------------------------------------------\u001b[0m",
      "\u001b[0;31mNameError\u001b[0m                                 Traceback (most recent call last)",
      "\u001b[0;32m<ipython-input-14-582085b23206>\u001b[0m in \u001b[0;36m<module>\u001b[0;34m\u001b[0m\n\u001b[0;32m----> 1\u001b[0;31m all_data = pd.concat([all_ids.reset_index(drop=True), all_ys_5min.reset_index(drop=True),\n\u001b[0m\u001b[1;32m      2\u001b[0m                       \u001b[0mall_ys_0min\u001b[0m\u001b[0;34m.\u001b[0m\u001b[0mreset_index\u001b[0m\u001b[0;34m(\u001b[0m\u001b[0mdrop\u001b[0m\u001b[0;34m=\u001b[0m\u001b[0;32mTrue\u001b[0m\u001b[0;34m)\u001b[0m\u001b[0;34m,\u001b[0m \u001b[0mall_activity\u001b[0m\u001b[0;34m.\u001b[0m\u001b[0mreset_index\u001b[0m\u001b[0;34m(\u001b[0m\u001b[0mdrop\u001b[0m\u001b[0;34m=\u001b[0m\u001b[0;32mTrue\u001b[0m\u001b[0;34m)\u001b[0m\u001b[0;34m,\u001b[0m\u001b[0;34m\u001b[0m\u001b[0;34m\u001b[0m\u001b[0m\n\u001b[1;32m      3\u001b[0m                       all_mean_hr.reset_index(drop=True),all_linetime.reset_index(drop=True)], axis=1)\n\u001b[1;32m      4\u001b[0m \u001b[0mall_data\u001b[0m\u001b[0;34m\u001b[0m\u001b[0;34m\u001b[0m\u001b[0m\n",
      "\u001b[0;31mNameError\u001b[0m: name 'all_ids' is not defined"
     ]
    }
   ],
   "source": [
    "all_data = pd.concat([all_ids.reset_index(drop=True), all_ys_5min.reset_index(drop=True),\n",
    "                      all_ys_0min.reset_index(drop=True), all_activity.reset_index(drop=True), \n",
    "                      all_mean_hr.reset_index(drop=True),all_linetime.reset_index(drop=True)], axis=1)\n",
    "all_data"
   ]
  },
  {
   "cell_type": "code",
   "execution_count": null,
   "metadata": {},
   "outputs": [],
   "source": [
    "# to prevent from memory crash\n",
    "del all_mean_hr, all_activity, all_linetime, all_ys_0min, all_ys_5min, all_ids"
   ]
  },
  {
   "cell_type": "code",
   "execution_count": 7,
   "metadata": {},
   "outputs": [],
   "source": [
    "# list of test/val/train ids\n",
    "test_ids = [6029, 5821, 2946, 4794,  347, 5177, 3086, 5570, 3771, 3389, 5899,\n",
    "        800, 5792,   70, 4026,  838, 3874, 1085, 5219, 5897, 6416, 1089,\n",
    "       5659, 4521,  565, 5151, 6723, 2903, 6320, 4649, 2548, 1300, 4088,\n",
    "       5608, 5393, 6739, 4333,  457, 5632, 6052, 2602, 5665, 1650, 2966,\n",
    "       2933, 2638, 5002, 3303, 1766, 5983, 2317,  140, 4815, 4285, 3625,\n",
    "       5304, 4873, 2467, 4617, 2416, 2615, 1759, 5131, 2598, 5748,  225,\n",
    "       2723, 5284,  893, 6730, 1077, 4575, 3216, 3547, 3275, 5754, 5166,\n",
    "       5557, 2687,  860, 5884, 1309,  460, 5596, 5292, 2388, 2150,  728,\n",
    "       4140, 5326, 6317, 5414, 4294, 4168, 3072, 4015, 4820, 2549, 6501,\n",
    "       6790, 3717, 1694,  118, 3750, 4580, 2894, 5451, 3980, 1055, 4461,\n",
    "        692]\n",
    "\n",
    "val_ids = [2487, 6280, 1074,  111, 4860, 3016, 3647,  863, 6091,   48, 5429,\n",
    "       1087, 4839, 2507, 3018, 2303, 5364, 3921, 3591, 3833, 3987, 6027,\n",
    "       3537, 5876, 3413, 5440, 6367, 2807,  318,  534, 2868, 6656, 5381,\n",
    "       2728, 1707, 1900, 1733, 4186, 5677, 3239, 1717, 4782,  386, 3585,\n",
    "       5788, 2987, 2217, 3293, 4671, 5793, 4849,  862, 4496, 3822, 4484,\n",
    "       1098, 1989, 5500,  499, 3133,  837, 6440, 2668, 2764, 1964, 1043,\n",
    "       1907, 6653, 3089, 6622, 4432, 6180, 5888, 3920, 3639, 4111, 4928,\n",
    "       2414, 4044,  632, 5838, 1391, 4998, 3516, 2050, 1102, 4875, 3290,\n",
    "        852,  771, 3936, 1478, 2218,  626, 2463, 3873, 1531,  602, 5532,\n",
    "       1256, 5789, 5623, 5011, 3441,  196,  501, 4330,  558,  458, 2123,\n",
    "       2904]\n",
    "# train_ids = []\n",
    "\n",
    "\n",
    "\n",
    "test_data = []\n",
    "train_data = []\n",
    "val_data = []\n",
    "for i in range(len(all_data)):\n",
    "    if(all_data.loc[i, 'id'] in test_ids):\n",
    "        test_data.append(all_data[ :i ])\n",
    "    elif(all_data.loc[i, 'id'] in val_ids):\n",
    "        val_data.append(all_data[ :i ])\n",
    "    else:\n",
    "        train_data.append(all_data[ :i ])\n",
    "        \n",
    "testset = pd.concat(test_data) \n",
    "trainset = pd.concat(train_data) \n",
    "valset = pd.concat(val_data)\n",
    "\n",
    "#define testset\n",
    "X_test = testset[['id', 'activity', 'mean_hr', 'linetime']]\n",
    "y_test_5min = testset[['label_5min']]\n",
    "y_test_0min = testset[['label_0min']]\n",
    "\n",
    "#define trainset\n",
    "X_train = trainset[['id', 'activity', 'mean_hr', 'linetime']]\n",
    "y_train_5min = trainset[['label_5min']]\n",
    "y_train_0min = trainset[['label_0min']]\n",
    "\n",
    "#define valset\n",
    "X_val = valset[['id', 'activity', 'mean_hr', 'linetime']]\n",
    "y_val_5min = valset[['label_5min']]\n",
    "y_val_0min = valset[['label_0min']]\n",
    "\n"
   ]
  },
  {
   "cell_type": "code",
   "execution_count": null,
   "metadata": {},
   "outputs": [],
   "source": [
    "#PLEASE SAVE THESE DATASETS AND SHARE THEM WITH ME"
   ]
  }
 ],
 "metadata": {
  "kernelspec": {
   "display_name": "Python 3",
   "language": "python",
   "name": "python3"
  },
  "language_info": {
   "codemirror_mode": {
    "name": "ipython",
    "version": 3
   },
   "file_extension": ".py",
   "mimetype": "text/x-python",
   "name": "python",
   "nbconvert_exporter": "python",
   "pygments_lexer": "ipython3",
   "version": "3.8.5"
  }
 },
 "nbformat": 4,
 "nbformat_minor": 4
}
