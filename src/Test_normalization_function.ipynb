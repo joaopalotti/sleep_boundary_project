{
 "cells": [
  {
   "cell_type": "code",
   "execution_count": 3,
   "metadata": {},
   "outputs": [],
   "source": [
    "import torch"
   ]
  },
  {
   "cell_type": "code",
   "execution_count": 23,
   "metadata": {},
   "outputs": [],
   "source": [
    "    def range_normalization(tensor):\n",
    "        tensor = tensor.view(tensor.size(0))\n",
    "        tensor -= tensor.min()\n",
    "        tensor /= tensor.max()\n",
    "        tensor = tensor.view(-1,1)\n",
    "    \n",
    "        return tensor\n",
    "\n",
    "# def range_normalization(tensor):\n",
    "#         tensor = tf.divide(\n",
    "#            tf.subtract(\n",
    "#               tensor, \n",
    "#               tf.reduce_min(tensor)\n",
    "#            ), \n",
    "#            tf.subtract(\n",
    "#               tf.reduce_max(tensor), \n",
    "#               tf.reduce_min(tensor)\n",
    "#            )\n",
    "#         )\n",
    "        \n",
    "#         return tensor"
   ]
  },
  {
   "cell_type": "code",
   "execution_count": 24,
   "metadata": {},
   "outputs": [
    {
     "name": "stdout",
     "output_type": "stream",
     "text": [
      "1__c2.shape torch.Size([3, 1])\n"
     ]
    }
   ],
   "source": [
    "c2 = torch.tensor([[-0.0836],\n",
    "                   [-0.0823],\n",
    "                  [-0.0837]])\n",
    "print(\"1__c2.shape\", c2.shape) \n",
    "# print(c2)"
   ]
  },
  {
   "cell_type": "code",
   "execution_count": 25,
   "metadata": {},
   "outputs": [],
   "source": [
    "c2 = range_normalization(c2)"
   ]
  },
  {
   "cell_type": "code",
   "execution_count": 26,
   "metadata": {},
   "outputs": [
    {
     "name": "stdout",
     "output_type": "stream",
     "text": [
      "2__c2.shape torch.Size([3, 1])\n",
      "tensor([[0.0714],\n",
      "        [1.0000],\n",
      "        [0.0000]])\n"
     ]
    }
   ],
   "source": [
    "print(\"2__c2.shape\", c2.shape) \n",
    "print(c2)"
   ]
  },
  {
   "cell_type": "code",
   "execution_count": 27,
   "metadata": {},
   "outputs": [],
   "source": [
    "# c2 = c2.resize_((3,1))\n",
    "# # b = torch.argmax(result, dim=1)\n",
    "# # result.reshape(result,[3,1])\n",
    "# c2"
   ]
  },
  {
   "cell_type": "code",
   "execution_count": null,
   "metadata": {},
   "outputs": [],
   "source": []
  }
 ],
 "metadata": {
  "kernelspec": {
   "display_name": "Python 3",
   "language": "python",
   "name": "python3"
  },
  "language_info": {
   "codemirror_mode": {
    "name": "ipython",
    "version": 3
   },
   "file_extension": ".py",
   "mimetype": "text/x-python",
   "name": "python",
   "nbconvert_exporter": "python",
   "pygments_lexer": "ipython3",
   "version": "3.8.5"
  }
 },
 "nbformat": 4,
 "nbformat_minor": 4
}
