{
 "cells": [
  {
   "cell_type": "code",
   "execution_count": 153,
   "metadata": {},
   "outputs": [],
   "source": [
    "import tempfile\n",
    "import pandas as pd\n",
    "pd.set_option('display.max_rows', 100)\n",
    "\n",
    "import numpy as np\n",
    "import os\n",
    "from tqdm import tqdm\n",
    "from glob import glob\n",
    "from datetime import timedelta\n",
    "import datetime"
   ]
  },
  {
   "cell_type": "code",
   "execution_count": 154,
   "metadata": {},
   "outputs": [
    {
     "data": {
      "text/html": [
       "<div>\n",
       "<style scoped>\n",
       "    .dataframe tbody tr th:only-of-type {\n",
       "        vertical-align: middle;\n",
       "    }\n",
       "\n",
       "    .dataframe tbody tr th {\n",
       "        vertical-align: top;\n",
       "    }\n",
       "\n",
       "    .dataframe thead th {\n",
       "        text-align: right;\n",
       "    }\n",
       "</style>\n",
       "<table border=\"1\" class=\"dataframe\">\n",
       "  <thead>\n",
       "    <tr style=\"text-align: right;\">\n",
       "      <th></th>\n",
       "      <th>linetime</th>\n",
       "      <th>w/s</th>\n",
       "    </tr>\n",
       "  </thead>\n",
       "  <tbody>\n",
       "    <tr>\n",
       "      <td>175</td>\n",
       "      <td>2017-01-04 02:27:30</td>\n",
       "      <td>0</td>\n",
       "    </tr>\n",
       "    <tr>\n",
       "      <td>176</td>\n",
       "      <td>2017-01-04 02:28:00</td>\n",
       "      <td>0</td>\n",
       "    </tr>\n",
       "    <tr>\n",
       "      <td>177</td>\n",
       "      <td>2017-01-04 02:28:30</td>\n",
       "      <td>0</td>\n",
       "    </tr>\n",
       "    <tr>\n",
       "      <td>178</td>\n",
       "      <td>2017-01-04 02:29:00</td>\n",
       "      <td>0</td>\n",
       "    </tr>\n",
       "    <tr>\n",
       "      <td>179</td>\n",
       "      <td>2017-01-04 02:29:30</td>\n",
       "      <td>0</td>\n",
       "    </tr>\n",
       "    <tr>\n",
       "      <td>180</td>\n",
       "      <td>2017-01-04 02:30:00</td>\n",
       "      <td>1</td>\n",
       "    </tr>\n",
       "    <tr>\n",
       "      <td>181</td>\n",
       "      <td>2017-01-04 02:30:30</td>\n",
       "      <td>1</td>\n",
       "    </tr>\n",
       "    <tr>\n",
       "      <td>182</td>\n",
       "      <td>2017-01-04 02:31:00</td>\n",
       "      <td>1</td>\n",
       "    </tr>\n",
       "    <tr>\n",
       "      <td>183</td>\n",
       "      <td>2017-01-04 02:31:30</td>\n",
       "      <td>1</td>\n",
       "    </tr>\n",
       "  </tbody>\n",
       "</table>\n",
       "</div>"
      ],
      "text/plain": [
       "               linetime  w/s\n",
       "175 2017-01-04 02:27:30    0\n",
       "176 2017-01-04 02:28:00    0\n",
       "177 2017-01-04 02:28:30    0\n",
       "178 2017-01-04 02:29:00    0\n",
       "179 2017-01-04 02:29:30    0\n",
       "180 2017-01-04 02:30:00    1\n",
       "181 2017-01-04 02:30:30    1\n",
       "182 2017-01-04 02:31:00    1\n",
       "183 2017-01-04 02:31:30    1"
      ]
     },
     "execution_count": 154,
     "metadata": {},
     "output_type": "execute_result"
    }
   ],
   "source": [
    "# Make a synthesized dataframe for ground truth\n",
    "\n",
    "df_PSG = pd.DataFrame({\n",
    "    'linetime': pd.date_range(start='2017-01-04 1:00:00', end = '2017-01-04 3:00:00', freq='30S')\n",
    "})\n",
    "\n",
    "\"\"\"\n",
    "# Add labels wake:0/sleep:1\n",
    "# Adding 2 sleep periods [1:30_1:50, 2:30_2:45]\n",
    "\"\"\"\n",
    "\n",
    "df_PSG ['w/s'] = 0\n",
    "\n",
    "i = 60\n",
    "j = 100\n",
    "for c in range(i, j+1):\n",
    "    df_PSG.at[c, 'w/s'] = 1\n",
    "    \n",
    "i = 180\n",
    "j = 210\n",
    "for c in range(i, j+1):\n",
    "    df_PSG.at[c, 'w/s'] = 1\n",
    "    \n",
    "df_PSG.loc[175:183]"
   ]
  },
  {
   "cell_type": "code",
   "execution_count": 155,
   "metadata": {},
   "outputs": [],
   "source": [
    "# Make a synthesized dataframe for ML Model\n",
    "\n",
    "df_ML = pd.DataFrame({\n",
    "    'linetime': pd.date_range(start='2017-01-04 1:00:00', end = '2017-01-04 3:00:00', freq='30S')\n",
    "})\n",
    "\n",
    "\"\"\"\n",
    "# Add labels wake:0/sleep:1\n",
    "# detected sleep periods [1:15_1:40, 2:35_3:00]\n",
    "\"\"\"\n",
    "\n",
    "df_ML ['w/s'] = 0\n",
    "\n",
    "i = 30\n",
    "j = 80\n",
    "for c in range(i, j+1):\n",
    "    df_ML.at[c, 'w/s'] = 1\n",
    "    \n",
    "i = 190\n",
    "j = 240\n",
    "for c in range(i, j+1):\n",
    "    df_ML.at[c, 'w/s'] = 1\n",
    "\n",
    "\n",
    "# df_ML.loc[179:200]"
   ]
  },
  {
   "cell_type": "code",
   "execution_count": 156,
   "metadata": {},
   "outputs": [
    {
     "data": {
      "text/plain": [
       "0.5833333333333334"
      ]
     },
     "execution_count": 156,
     "metadata": {},
     "output_type": "execute_result"
    }
   ],
   "source": [
    "# recall\n",
    "\n",
    "# TP calculation\n",
    "tp = 0\n",
    "actual_true = 0\n",
    "\n",
    "for i in range(len(df_PSG)):\n",
    "        \n",
    "    if(df_PSG.loc[i, 'w/s'] == 1):\n",
    "        actual_true += 1\n",
    "    if(df_PSG.loc[i, 'w/s'] and df_ML.loc[i, 'w/s']):\n",
    "        tp += 1\n",
    "\n",
    "if( actual_true != 0 ):\n",
    "    recall = tp/actual_true\n",
    "    \n",
    "recall"
   ]
  },
  {
   "cell_type": "code",
   "execution_count": 157,
   "metadata": {},
   "outputs": [
    {
     "data": {
      "text/plain": [
       "0.4117647058823529"
      ]
     },
     "execution_count": 157,
     "metadata": {},
     "output_type": "execute_result"
    }
   ],
   "source": [
    "# precision\n",
    "\n",
    "tp = 0\n",
    "predicted_true = 0\n",
    "\n",
    "for i in range(len(df_PSG)):\n",
    "        \n",
    "    if(df_ML.loc[i, 'w/s'] == 1):\n",
    "        predicted_true += 1\n",
    "    if(df_PSG.loc[i, 'w/s'] and df_ML.loc[i, 'w/s']):\n",
    "        tp += 1\n",
    "        \n",
    "        \n",
    "if( predicted_true != 0 ):\n",
    "    precision = tp/predicted_true\n",
    "    \n",
    "precision"
   ]
  },
  {
   "cell_type": "code",
   "execution_count": 158,
   "metadata": {},
   "outputs": [
    {
     "data": {
      "text/plain": [
       "0.4827586206896552"
      ]
     },
     "execution_count": 158,
     "metadata": {},
     "output_type": "execute_result"
    }
   ],
   "source": [
    "# f1 score\n",
    "\n",
    "if (precision + recall) > 0:\n",
    "        f1 = (2. * precision * recall) / (precision + recall)\n",
    "else:\n",
    "        f1 = 0\n",
    "f1"
   ]
  },
  {
   "cell_type": "code",
   "execution_count": null,
   "metadata": {},
   "outputs": [],
   "source": []
  }
 ],
 "metadata": {
  "kernelspec": {
   "display_name": "Python 3",
   "language": "python",
   "name": "python3"
  },
  "language_info": {
   "codemirror_mode": {
    "name": "ipython",
    "version": 3
   },
   "file_extension": ".py",
   "mimetype": "text/x-python",
   "name": "python",
   "nbconvert_exporter": "python",
   "pygments_lexer": "ipython3",
   "version": "3.7.4"
  }
 },
 "nbformat": 4,
 "nbformat_minor": 2
}
