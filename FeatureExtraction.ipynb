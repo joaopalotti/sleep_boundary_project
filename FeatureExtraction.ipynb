{
 "cells": [
  {
   "cell_type": "code",
   "execution_count": 1,
   "metadata": {
    "ExecuteTime": {
     "end_time": "2021-02-24T22:00:53.458011Z",
     "start_time": "2021-02-24T22:00:53.295721Z"
    }
   },
   "outputs": [],
   "source": [
    "import tempfile\n",
    "import pandas as pd\n",
    "pd.set_option('display.max_rows', 100)\n",
    "\n",
    "import numpy as np\n",
    "import os\n",
    "from tqdm import tqdm\n",
    "from glob import glob\n",
    "from datetime import timedelta"
   ]
  },
  {
   "cell_type": "code",
   "execution_count": 57,
   "metadata": {
    "ExecuteTime": {
     "end_time": "2021-02-24T22:13:24.136985Z",
     "start_time": "2021-02-24T22:13:24.112293Z"
    }
   },
   "outputs": [],
   "source": [
    "def read_file(filename):\n",
    "    df = pd.read_csv(filename)\n",
    "    df[\"sleep\"] = df[\"stages\"] > 0\n",
    "    df[\"linetime\"] = pd.to_datetime(df[\"linetime\"])\n",
    "    return df\n",
    "\n",
    "df = read_file(\"./data/collection_mesa_hr_30_240/0001_combined.csv.gz\")"
   ]
  },
  {
   "cell_type": "code",
   "execution_count": 58,
   "metadata": {
    "ExecuteTime": {
     "end_time": "2021-02-24T22:13:24.598502Z",
     "start_time": "2021-02-24T22:13:24.585015Z"
    }
   },
   "outputs": [],
   "source": [
    "def generate_slide_wins(df, winsize=11):\n",
    "    seq_id = 0\n",
    "    transformed_df = []\n",
    "    list_of_indexes=[]\n",
    "    labels = []\n",
    "    df.index.to_series().rolling(winsize, center=True).apply((lambda x: list_of_indexes.append(x.tolist()) or 0), raw=False)\n",
    "    for idx in list_of_indexes:\n",
    "        labels.append(df.iloc[idx].iloc[winsize//2][\"sleep\"])\n",
    "        tmp_df = df.iloc[idx].copy()\n",
    "        tmp_df[\"seq_id\"] = seq_id\n",
    "        seq_id += 1\n",
    "        transformed_df.append(tmp_df)\n",
    "\n",
    "    return pd.concat(transformed_df), pd.Series(labels)"
   ]
  },
  {
   "cell_type": "code",
   "execution_count": null,
   "metadata": {
    "ExecuteTime": {
     "start_time": "2021-02-24T22:13:25.582Z"
    }
   },
   "outputs": [
    {
     "name": "stderr",
     "output_type": "stream",
     "text": [
      "Feature Extraction: 100%|██████████| 30/30 [00:13<00:00,  2.29it/s]\n",
      "Feature Extraction: 100%|██████████| 30/30 [00:17<00:00,  1.67it/s]\n",
      "Feature Extraction: 100%|██████████| 30/30 [00:16<00:00,  1.79it/s]\n",
      "Feature Extraction: 100%|██████████| 30/30 [00:20<00:00,  1.50it/s]\n",
      "Feature Extraction: 100%|██████████| 30/30 [00:18<00:00,  1.67it/s]\n",
      "Feature Extraction: 100%|██████████| 30/30 [00:17<00:00,  1.73it/s]\n",
      "Feature Extraction: 100%|██████████| 30/30 [00:16<00:00,  1.82it/s]\n",
      "Feature Extraction: 100%|██████████| 30/30 [00:18<00:00,  1.58it/s]\n",
      "Feature Extraction: 100%|██████████| 30/30 [00:15<00:00,  1.91it/s]\n",
      "Feature Extraction: 100%|██████████| 30/30 [00:16<00:00,  1.77it/s]\n",
      "Feature Extraction: 100%|██████████| 30/30 [00:14<00:00,  2.06it/s]\n",
      "Feature Extraction: 100%|██████████| 30/30 [00:19<00:00,  1.54it/s]\n",
      "Feature Extraction: 100%|██████████| 30/30 [00:18<00:00,  1.63it/s]\n",
      "Feature Extraction: 100%|██████████| 30/30 [00:17<00:00,  1.71it/s]\n",
      "Feature Extraction: 100%|██████████| 30/30 [00:18<00:00,  1.59it/s]\n",
      "Feature Extraction: 100%|██████████| 30/30 [00:20<00:00,  1.49it/s]\n",
      "Feature Extraction: 100%|██████████| 30/30 [00:23<00:00,  1.26it/s]\n",
      "Feature Extraction: 100%|██████████| 30/30 [00:18<00:00,  1.66it/s]\n",
      "Feature Extraction: 100%|██████████| 30/30 [00:21<00:00,  1.40it/s]\n",
      "Feature Extraction: 100%|██████████| 30/30 [00:16<00:00,  1.77it/s]\n",
      "Feature Extraction: 100%|██████████| 30/30 [00:19<00:00,  1.57it/s]\n",
      "Feature Extraction: 100%|██████████| 30/30 [00:25<00:00,  1.16it/s]\n",
      "Feature Extraction: 100%|██████████| 30/30 [00:18<00:00,  1.66it/s]\n",
      "Feature Extraction: 100%|██████████| 30/30 [00:24<00:00,  1.25it/s]\n",
      "Feature Extraction: 100%|██████████| 30/30 [00:24<00:00,  1.24it/s]\n",
      "Feature Extraction: 100%|██████████| 30/30 [00:17<00:00,  1.68it/s]\n",
      "Feature Extraction: 100%|██████████| 30/30 [00:20<00:00,  1.45it/s]\n",
      "Feature Extraction: 100%|██████████| 30/30 [00:26<00:00,  1.14it/s]\n",
      "Feature Extraction: 100%|██████████| 29/29 [00:08<00:00,  3.30it/s]\n",
      "Feature Extraction: 100%|██████████| 30/30 [00:21<00:00,  1.38it/s]\n",
      "Feature Extraction: 100%|██████████| 30/30 [00:22<00:00,  1.35it/s]\n",
      "Feature Extraction: 100%|██████████| 30/30 [00:19<00:00,  1.54it/s]\n",
      "Feature Extraction: 100%|██████████| 30/30 [00:20<00:00,  1.45it/s]\n",
      "Feature Extraction: 100%|██████████| 30/30 [00:26<00:00,  1.13it/s]\n",
      "Feature Extraction: 100%|██████████| 30/30 [00:16<00:00,  1.82it/s]\n",
      "Feature Extraction:  83%|████████▎ | 25/30 [00:21<00:05,  1.13s/it]"
     ]
    }
   ],
   "source": [
    "all_features, all_ys, all_ids = [], [], []\n",
    "\n",
    "input_files = glob(\"./data/collection_mesa_hr_30_240/*.csv.gz\")\n",
    "\n",
    "for file in input_files:\n",
    "    df = read_file(file)\n",
    "    transformed_df, labels = generate_slide_wins(df, 21) # -10, Epoch, +10\n",
    "\n",
    "    extracted_features = extract_features(transformed_df[[\"activity\", \"mean_hr\", \"linetime\", \"seq_id\"]], \n",
    "                                      column_id=\"seq_id\", column_sort=\"linetime\")\n",
    "    \n",
    "    assert extracted_features.shape[0] == labels.shape[0]\n",
    "    \n",
    "    ids = pd.Series(labels.shape[0]*[df[\"mesaid\"].unique()[0]])\n",
    "    \n",
    "    all_features.append(extracted_features)\n",
    "    all_ys.append(labels)\n",
    "    all_ids.append(ids)\n"
   ]
  },
  {
   "cell_type": "code",
   "execution_count": null,
   "metadata": {},
   "outputs": [],
   "source": [
    "# This process took long time, but I am saving the final dataframes to files here...\n",
    "# Just need to load those into memory..."
   ]
  },
  {
   "cell_type": "code",
   "execution_count": null,
   "metadata": {},
   "outputs": [],
   "source": [
    "# TODO: use sklearn pipelines to perform a 5-CV evaluation and predictions of the labels\n"
   ]
  },
  {
   "cell_type": "code",
   "execution_count": null,
   "metadata": {},
   "outputs": [],
   "source": [
    "from tsfresh import select_features\n",
    "from tsfresh.utilities.dataframe_functions import impute\n",
    "\n",
    "impute(all_features)\n",
    "features_filtered = select_features(all_features, labels) # This needs to be done in the training set only"
   ]
  }
 ],
 "metadata": {
  "kernelspec": {
   "display_name": "Python 3",
   "language": "python",
   "name": "python3"
  },
  "language_info": {
   "codemirror_mode": {
    "name": "ipython",
    "version": 3
   },
   "file_extension": ".py",
   "mimetype": "text/x-python",
   "name": "python",
   "nbconvert_exporter": "python",
   "pygments_lexer": "ipython3",
   "version": "3.8.3"
  }
 },
 "nbformat": 4,
 "nbformat_minor": 4
}
