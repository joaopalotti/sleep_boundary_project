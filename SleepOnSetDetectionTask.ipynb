{
 "cells": [
  {
   "cell_type": "code",
   "execution_count": 1,
   "metadata": {
    "ExecuteTime": {
     "end_time": "2021-02-22T19:01:03.940194Z",
     "start_time": "2021-02-22T19:01:03.679900Z"
    }
   },
   "outputs": [],
   "source": [
    "import tempfile\n",
    "import pandas as pd\n",
    "pd.set_option('display.max_rows', 100)\n",
    "\n",
    "import numpy as np\n",
    "import os\n",
    "from tqdm import tqdm\n",
    "from glob import glob\n",
    "from datetime import timedelta"
   ]
  },
  {
   "cell_type": "code",
   "execution_count": 2,
   "metadata": {
    "ExecuteTime": {
     "end_time": "2021-02-22T19:01:21.696604Z",
     "start_time": "2021-02-22T19:01:21.658182Z"
    }
   },
   "outputs": [],
   "source": [
    "df = pd.read_csv(\"./data/collection_mesa_hr_30_240/0001_combined.csv.gz\")\n",
    "df[\"sleep\"] = df[\"stages\"] > 0\n",
    "df[\"linetime\"] = pd.to_datetime(df[\"linetime\"])"
   ]
  },
  {
   "cell_type": "code",
   "execution_count": 3,
   "metadata": {},
   "outputs": [
    {
     "data": {
      "text/plain": [
       "array([False,  True])"
      ]
     },
     "execution_count": 3,
     "metadata": {},
     "output_type": "execute_result"
    }
   ],
   "source": [
    "df.sleep.unique()"
   ]
  },
  {
   "cell_type": "code",
   "execution_count": 4,
   "metadata": {},
   "outputs": [
    {
     "data": {
      "text/html": [
       "<div>\n",
       "<style scoped>\n",
       "    .dataframe tbody tr th:only-of-type {\n",
       "        vertical-align: middle;\n",
       "    }\n",
       "\n",
       "    .dataframe tbody tr th {\n",
       "        vertical-align: top;\n",
       "    }\n",
       "\n",
       "    .dataframe thead th {\n",
       "        text-align: right;\n",
       "    }\n",
       "</style>\n",
       "<table border=\"1\" class=\"dataframe\">\n",
       "  <thead>\n",
       "    <tr style=\"text-align: right;\">\n",
       "      <th></th>\n",
       "      <th>activity</th>\n",
       "      <th>linetime</th>\n",
       "      <th>mean_hr</th>\n",
       "      <th>stages</th>\n",
       "      <th>mesaid</th>\n",
       "      <th>sleep</th>\n",
       "    </tr>\n",
       "  </thead>\n",
       "  <tbody>\n",
       "    <tr>\n",
       "      <td>0</td>\n",
       "      <td>0.0</td>\n",
       "      <td>2017-01-05 20:30:00</td>\n",
       "      <td>76.463532</td>\n",
       "      <td>0</td>\n",
       "      <td>1</td>\n",
       "      <td>0</td>\n",
       "    </tr>\n",
       "    <tr>\n",
       "      <td>1</td>\n",
       "      <td>0.0</td>\n",
       "      <td>2017-01-05 20:30:30</td>\n",
       "      <td>76.587971</td>\n",
       "      <td>0</td>\n",
       "      <td>1</td>\n",
       "      <td>0</td>\n",
       "    </tr>\n",
       "    <tr>\n",
       "      <td>2</td>\n",
       "      <td>0.0</td>\n",
       "      <td>2017-01-05 20:31:00</td>\n",
       "      <td>76.782638</td>\n",
       "      <td>0</td>\n",
       "      <td>1</td>\n",
       "      <td>0</td>\n",
       "    </tr>\n",
       "    <tr>\n",
       "      <td>3</td>\n",
       "      <td>0.0</td>\n",
       "      <td>2017-01-05 20:31:30</td>\n",
       "      <td>76.040581</td>\n",
       "      <td>0</td>\n",
       "      <td>1</td>\n",
       "      <td>0</td>\n",
       "    </tr>\n",
       "    <tr>\n",
       "      <td>4</td>\n",
       "      <td>0.0</td>\n",
       "      <td>2017-01-05 20:32:00</td>\n",
       "      <td>76.351421</td>\n",
       "      <td>0</td>\n",
       "      <td>1</td>\n",
       "      <td>0</td>\n",
       "    </tr>\n",
       "    <tr>\n",
       "      <td>...</td>\n",
       "      <td>...</td>\n",
       "      <td>...</td>\n",
       "      <td>...</td>\n",
       "      <td>...</td>\n",
       "      <td>...</td>\n",
       "      <td>...</td>\n",
       "    </tr>\n",
       "    <tr>\n",
       "      <td>1280</td>\n",
       "      <td>215.0</td>\n",
       "      <td>2017-01-06 07:24:00</td>\n",
       "      <td>80.253639</td>\n",
       "      <td>0</td>\n",
       "      <td>1</td>\n",
       "      <td>0</td>\n",
       "    </tr>\n",
       "    <tr>\n",
       "      <td>1281</td>\n",
       "      <td>194.0</td>\n",
       "      <td>2017-01-06 07:24:30</td>\n",
       "      <td>80.862131</td>\n",
       "      <td>0</td>\n",
       "      <td>1</td>\n",
       "      <td>0</td>\n",
       "    </tr>\n",
       "    <tr>\n",
       "      <td>1282</td>\n",
       "      <td>194.0</td>\n",
       "      <td>2017-01-06 07:25:00</td>\n",
       "      <td>81.297593</td>\n",
       "      <td>0</td>\n",
       "      <td>1</td>\n",
       "      <td>0</td>\n",
       "    </tr>\n",
       "    <tr>\n",
       "      <td>1283</td>\n",
       "      <td>262.0</td>\n",
       "      <td>2017-01-06 07:25:30</td>\n",
       "      <td>89.617435</td>\n",
       "      <td>0</td>\n",
       "      <td>1</td>\n",
       "      <td>0</td>\n",
       "    </tr>\n",
       "    <tr>\n",
       "      <td>1284</td>\n",
       "      <td>299.0</td>\n",
       "      <td>2017-01-06 07:26:00</td>\n",
       "      <td>85.756281</td>\n",
       "      <td>0</td>\n",
       "      <td>1</td>\n",
       "      <td>0</td>\n",
       "    </tr>\n",
       "  </tbody>\n",
       "</table>\n",
       "<p>1285 rows × 6 columns</p>\n",
       "</div>"
      ],
      "text/plain": [
       "      activity            linetime    mean_hr  stages  mesaid  sleep\n",
       "0          0.0 2017-01-05 20:30:00  76.463532       0       1      0\n",
       "1          0.0 2017-01-05 20:30:30  76.587971       0       1      0\n",
       "2          0.0 2017-01-05 20:31:00  76.782638       0       1      0\n",
       "3          0.0 2017-01-05 20:31:30  76.040581       0       1      0\n",
       "4          0.0 2017-01-05 20:32:00  76.351421       0       1      0\n",
       "...        ...                 ...        ...     ...     ...    ...\n",
       "1280     215.0 2017-01-06 07:24:00  80.253639       0       1      0\n",
       "1281     194.0 2017-01-06 07:24:30  80.862131       0       1      0\n",
       "1282     194.0 2017-01-06 07:25:00  81.297593       0       1      0\n",
       "1283     262.0 2017-01-06 07:25:30  89.617435       0       1      0\n",
       "1284     299.0 2017-01-06 07:26:00  85.756281       0       1      0\n",
       "\n",
       "[1285 rows x 6 columns]"
      ]
     },
     "execution_count": 4,
     "metadata": {},
     "output_type": "execute_result"
    }
   ],
   "source": [
    "# Add by Fatemeh\n",
    "# change true/false to o/1 in sleep col\n",
    "\n",
    "df.loc[df['sleep'] == False, 'sleep'] = 0\n",
    "df.loc[df['sleep'] == True, 'sleep'] = 1\n",
    "\n",
    "df"
   ]
  },
  {
   "cell_type": "code",
   "execution_count": 5,
   "metadata": {
    "ExecuteTime": {
     "end_time": "2021-02-22T19:01:23.433096Z",
     "start_time": "2021-02-22T19:01:23.410398Z"
    }
   },
   "outputs": [],
   "source": [
    "def sadeh_algorithm(activity, min_threshold=0, minNat=50, maxNat=100, window_past=6,\n",
    "                    window_nat=11, window_centered=11):\n",
    "    \"\"\"\n",
    "    Sadeh model for classifying sleep vs active\n",
    "    \"\"\"\n",
    "    act = activity.copy()\n",
    "\n",
    "    _mean = act.rolling(window=window_centered, center=True, min_periods=1).mean()\n",
    "    _std = act.rolling(window=window_past, min_periods=1).std()\n",
    "    _nat = ((act >= minNat) & (act <= maxNat)).rolling(window=window_nat, center=True, min_periods=1).sum()\n",
    "\n",
    "    _LocAct = (act + 1.).apply(np.log)\n",
    "\n",
    "    sadeh = (7.601 - 0.065 * _mean - 0.056 * _std - 0.0703 * _LocAct - 1.08 * _nat)\n",
    "    sadeh.name = \"Sadeh\"\n",
    "    # type of sadeh : class 'pandas.core.series.Series\n",
    "    \n",
    "    # Returns a series with binary values: 1 for sleep, 0 for awake\n",
    "    return (sadeh > min_threshold).astype(int)\n",
    "\n",
    "df[\"sadeh\"] = sadeh_algorithm(df[\"activity\"])"
   ]
  },
  {
   "cell_type": "code",
   "execution_count": 7,
   "metadata": {
    "ExecuteTime": {
     "end_time": "2021-02-22T19:01:23.828930Z",
     "start_time": "2021-02-22T19:01:23.780559Z"
    }
   },
   "outputs": [],
   "source": [
    "def scripps_clinic_algorithm(activity, scaler=0.204):\n",
    "\n",
    "    act_series = dict()\n",
    "    act_series[\"_a0\"] = activity.fillna(0.0)\n",
    "\n",
    "    # Enrich the dataframe with temporary values\n",
    "    for i in range(1, 11):\n",
    "        act_series[\"_a-%d\" % (i)] = activity.shift(i).fillna(0.0)\n",
    "        act_series[\"_a+%d\" % (i)] = activity.shift(-i).fillna(0.0)\n",
    "\n",
    "    # Calculates Scripps clinic algorithm\n",
    "    scripps = scaler * (0.0064 * act_series[\"_a-10\"] + 0.0074 * act_series[\"_a-9\"] +\n",
    "                        0.0112 * act_series[\"_a-8\"] + 0.0112 * act_series[\"_a-7\"] +\n",
    "                        0.0118 * act_series[\"_a-6\"] + 0.0118 * act_series[\"_a-5\"] +\n",
    "                        0.0128 * act_series[\"_a-4\"] + 0.0188 * act_series[\"_a-3\"] +\n",
    "                        0.0280 * act_series[\"_a-2\"] + 0.0664 * act_series[\"_a-1\"] +\n",
    "                        0.0300 * act_series[\"_a0\"] + 0.0112 * act_series[\"_a+1\"] +\n",
    "                        0.0100 * act_series[\"_a+2\"])\n",
    "\n",
    "    # Returns a series with binary values: 1 for sleep, 0 for awake\n",
    "    return (scripps < 1.0).astype(int)\n",
    "df[\"scripps\"] = scripps_clinic_algorithm(df[\"activity\"])"
   ]
  },
  {
   "cell_type": "code",
   "execution_count": 9,
   "metadata": {
    "ExecuteTime": {
     "end_time": "2021-02-22T19:01:24.240234Z",
     "start_time": "2021-02-22T19:01:24.179699Z"
    }
   },
   "outputs": [
    {
     "data": {
      "text/html": [
       "<div>\n",
       "<style scoped>\n",
       "    .dataframe tbody tr th:only-of-type {\n",
       "        vertical-align: middle;\n",
       "    }\n",
       "\n",
       "    .dataframe tbody tr th {\n",
       "        vertical-align: top;\n",
       "    }\n",
       "\n",
       "    .dataframe thead th {\n",
       "        text-align: right;\n",
       "    }\n",
       "</style>\n",
       "<table border=\"1\" class=\"dataframe\">\n",
       "  <thead>\n",
       "    <tr style=\"text-align: right;\">\n",
       "      <th></th>\n",
       "      <th>activity</th>\n",
       "      <th>linetime</th>\n",
       "      <th>mean_hr</th>\n",
       "      <th>stages</th>\n",
       "      <th>mesaid</th>\n",
       "      <th>sleep</th>\n",
       "      <th>sadeh</th>\n",
       "      <th>scripps</th>\n",
       "    </tr>\n",
       "  </thead>\n",
       "  <tbody>\n",
       "    <tr>\n",
       "      <td>596</td>\n",
       "      <td>0.0</td>\n",
       "      <td>2017-01-06 01:33:30</td>\n",
       "      <td>64.708770</td>\n",
       "      <td>0</td>\n",
       "      <td>1</td>\n",
       "      <td>0</td>\n",
       "      <td>1</td>\n",
       "      <td>1</td>\n",
       "    </tr>\n",
       "    <tr>\n",
       "      <td>705</td>\n",
       "      <td>0.0</td>\n",
       "      <td>2017-01-06 02:32:30</td>\n",
       "      <td>63.972163</td>\n",
       "      <td>0</td>\n",
       "      <td>1</td>\n",
       "      <td>0</td>\n",
       "      <td>1</td>\n",
       "      <td>1</td>\n",
       "    </tr>\n",
       "    <tr>\n",
       "      <td>1197</td>\n",
       "      <td>0.0</td>\n",
       "      <td>2017-01-06 06:42:00</td>\n",
       "      <td>74.989511</td>\n",
       "      <td>0</td>\n",
       "      <td>1</td>\n",
       "      <td>0</td>\n",
       "      <td>1</td>\n",
       "      <td>1</td>\n",
       "    </tr>\n",
       "  </tbody>\n",
       "</table>\n",
       "</div>"
      ],
      "text/plain": [
       "      activity            linetime    mean_hr  stages  mesaid  sleep  sadeh  \\\n",
       "596        0.0 2017-01-06 01:33:30  64.708770       0       1      0      1   \n",
       "705        0.0 2017-01-06 02:32:30  63.972163       0       1      0      1   \n",
       "1197       0.0 2017-01-06 06:42:00  74.989511       0       1      0      1   \n",
       "\n",
       "      scripps  \n",
       "596         1  \n",
       "705         1  \n",
       "1197        1  "
      ]
     },
     "execution_count": 9,
     "metadata": {},
     "output_type": "execute_result"
    }
   ],
   "source": [
    "def ground_truth_sleeponset_prediction(df, col=\"sleep\", number_consec_epochs=10):\n",
    "    \"\"\" Sleep col is 1 if subject is sleeping and 0 otherwise.\n",
    "        The ground truth would be at least 10 awakes, then sleep onset, and at least 10 sleeps.\n",
    "        Or.... 10 Falses followed by 10 Trues\n",
    "    \n",
    "    \"\"\"\n",
    "    # Gets the average label in the past X (=10) epochs. \n",
    "    # A mean value of 10 here means that the subject was sleeping for at least 10 consecutive epochs\n",
    "    rolling_mean = df[col].rolling(number_consec_epochs).mean()\n",
    "    \n",
    "    rolling_mean_p10  = rolling_mean.shift(-(number_consec_epochs))\n",
    "    \n",
    "    return (rolling_mean <= 0) & (rolling_mean_p10 >= 1)\n",
    "\n",
    "gt = df[ground_truth_sleeponset_prediction(df, \"sleep\", 10)]\n",
    "gt"
   ]
  },
  {
   "cell_type": "code",
   "execution_count": 11,
   "metadata": {
    "ExecuteTime": {
     "end_time": "2021-02-22T19:01:24.647831Z",
     "start_time": "2021-02-22T19:01:24.608176Z"
    }
   },
   "outputs": [
    {
     "data": {
      "text/html": [
       "<div>\n",
       "<style scoped>\n",
       "    .dataframe tbody tr th:only-of-type {\n",
       "        vertical-align: middle;\n",
       "    }\n",
       "\n",
       "    .dataframe tbody tr th {\n",
       "        vertical-align: top;\n",
       "    }\n",
       "\n",
       "    .dataframe thead th {\n",
       "        text-align: right;\n",
       "    }\n",
       "</style>\n",
       "<table border=\"1\" class=\"dataframe\">\n",
       "  <thead>\n",
       "    <tr style=\"text-align: right;\">\n",
       "      <th></th>\n",
       "      <th>activity</th>\n",
       "      <th>linetime</th>\n",
       "      <th>mean_hr</th>\n",
       "      <th>stages</th>\n",
       "      <th>mesaid</th>\n",
       "      <th>sleep</th>\n",
       "      <th>sadeh</th>\n",
       "      <th>scripps</th>\n",
       "    </tr>\n",
       "  </thead>\n",
       "  <tbody>\n",
       "    <tr>\n",
       "      <td>173</td>\n",
       "      <td>0.0</td>\n",
       "      <td>2017-01-05 21:56:30</td>\n",
       "      <td>71.845511</td>\n",
       "      <td>1</td>\n",
       "      <td>1</td>\n",
       "      <td>1</td>\n",
       "      <td>1</td>\n",
       "      <td>0</td>\n",
       "    </tr>\n",
       "    <tr>\n",
       "      <td>248</td>\n",
       "      <td>0.0</td>\n",
       "      <td>2017-01-05 22:35:00</td>\n",
       "      <td>70.047317</td>\n",
       "      <td>0</td>\n",
       "      <td>1</td>\n",
       "      <td>0</td>\n",
       "      <td>1</td>\n",
       "      <td>0</td>\n",
       "    </tr>\n",
       "    <tr>\n",
       "      <td>304</td>\n",
       "      <td>0.0</td>\n",
       "      <td>2017-01-05 23:04:30</td>\n",
       "      <td>73.590180</td>\n",
       "      <td>0</td>\n",
       "      <td>1</td>\n",
       "      <td>0</td>\n",
       "      <td>1</td>\n",
       "      <td>0</td>\n",
       "    </tr>\n",
       "    <tr>\n",
       "      <td>588</td>\n",
       "      <td>0.0</td>\n",
       "      <td>2017-01-06 01:29:30</td>\n",
       "      <td>68.790494</td>\n",
       "      <td>0</td>\n",
       "      <td>1</td>\n",
       "      <td>0</td>\n",
       "      <td>1</td>\n",
       "      <td>0</td>\n",
       "    </tr>\n",
       "    <tr>\n",
       "      <td>813</td>\n",
       "      <td>0.0</td>\n",
       "      <td>2017-01-06 03:27:00</td>\n",
       "      <td>63.023003</td>\n",
       "      <td>4</td>\n",
       "      <td>1</td>\n",
       "      <td>1</td>\n",
       "      <td>1</td>\n",
       "      <td>0</td>\n",
       "    </tr>\n",
       "    <tr>\n",
       "      <td>1143</td>\n",
       "      <td>0.0</td>\n",
       "      <td>2017-01-06 06:15:00</td>\n",
       "      <td>67.434649</td>\n",
       "      <td>0</td>\n",
       "      <td>1</td>\n",
       "      <td>0</td>\n",
       "      <td>1</td>\n",
       "      <td>0</td>\n",
       "    </tr>\n",
       "  </tbody>\n",
       "</table>\n",
       "</div>"
      ],
      "text/plain": [
       "      activity            linetime    mean_hr  stages  mesaid  sleep  sadeh  \\\n",
       "173        0.0 2017-01-05 21:56:30  71.845511       1       1      1      1   \n",
       "248        0.0 2017-01-05 22:35:00  70.047317       0       1      0      1   \n",
       "304        0.0 2017-01-05 23:04:30  73.590180       0       1      0      1   \n",
       "588        0.0 2017-01-06 01:29:30  68.790494       0       1      0      1   \n",
       "813        0.0 2017-01-06 03:27:00  63.023003       4       1      1      1   \n",
       "1143       0.0 2017-01-06 06:15:00  67.434649       0       1      0      1   \n",
       "\n",
       "      scripps  \n",
       "173         0  \n",
       "248         0  \n",
       "304         0  \n",
       "588         0  \n",
       "813         0  \n",
       "1143        0  "
      ]
     },
     "execution_count": 11,
     "metadata": {},
     "output_type": "execute_result"
    }
   ],
   "source": [
    "pred_scripps = df[ground_truth_sleeponset_prediction(df, \"scripps\", 10)]\n",
    "pred_scripps"
   ]
  },
  {
   "cell_type": "code",
   "execution_count": 12,
   "metadata": {
    "ExecuteTime": {
     "end_time": "2021-02-22T19:01:25.109058Z",
     "start_time": "2021-02-22T19:01:25.071188Z"
    }
   },
   "outputs": [
    {
     "data": {
      "text/html": [
       "<div>\n",
       "<style scoped>\n",
       "    .dataframe tbody tr th:only-of-type {\n",
       "        vertical-align: middle;\n",
       "    }\n",
       "\n",
       "    .dataframe tbody tr th {\n",
       "        vertical-align: top;\n",
       "    }\n",
       "\n",
       "    .dataframe thead th {\n",
       "        text-align: right;\n",
       "    }\n",
       "</style>\n",
       "<table border=\"1\" class=\"dataframe\">\n",
       "  <thead>\n",
       "    <tr style=\"text-align: right;\">\n",
       "      <th></th>\n",
       "      <th>activity</th>\n",
       "      <th>linetime</th>\n",
       "      <th>mean_hr</th>\n",
       "      <th>stages</th>\n",
       "      <th>mesaid</th>\n",
       "      <th>sleep</th>\n",
       "      <th>sadeh</th>\n",
       "      <th>scripps</th>\n",
       "    </tr>\n",
       "  </thead>\n",
       "  <tbody>\n",
       "    <tr>\n",
       "      <td>107</td>\n",
       "      <td>29.0</td>\n",
       "      <td>2017-01-05 21:23:30</td>\n",
       "      <td>73.717111</td>\n",
       "      <td>0</td>\n",
       "      <td>1</td>\n",
       "      <td>0</td>\n",
       "      <td>0</td>\n",
       "      <td>0</td>\n",
       "    </tr>\n",
       "    <tr>\n",
       "      <td>583</td>\n",
       "      <td>5.0</td>\n",
       "      <td>2017-01-06 01:27:00</td>\n",
       "      <td>68.183903</td>\n",
       "      <td>0</td>\n",
       "      <td>1</td>\n",
       "      <td>0</td>\n",
       "      <td>0</td>\n",
       "      <td>0</td>\n",
       "    </tr>\n",
       "  </tbody>\n",
       "</table>\n",
       "</div>"
      ],
      "text/plain": [
       "     activity            linetime    mean_hr  stages  mesaid  sleep  sadeh  \\\n",
       "107      29.0 2017-01-05 21:23:30  73.717111       0       1      0      0   \n",
       "583       5.0 2017-01-06 01:27:00  68.183903       0       1      0      0   \n",
       "\n",
       "     scripps  \n",
       "107        0  \n",
       "583        0  "
      ]
     },
     "execution_count": 12,
     "metadata": {},
     "output_type": "execute_result"
    }
   ],
   "source": [
    "pred_sadeh = df[ground_truth_sleeponset_prediction(df, \"sadeh\", 10)]\n",
    "pred_sadeh "
   ]
  },
  {
   "cell_type": "code",
   "execution_count": 8,
   "metadata": {
    "ExecuteTime": {
     "end_time": "2021-02-22T19:01:25.649871Z",
     "start_time": "2021-02-22T19:01:25.629788Z"
    }
   },
   "outputs": [],
   "source": [
    "def calc_eval_metrics(gt, pred, tolerance_in_minutes=5):\n",
    "    \n",
    "    if len(pred) == 0:\n",
    "        return 0, 0, 0\n",
    "    \n",
    "    # Checks the recall: from all possible events how many I could find?\n",
    "    okay, wrong = 0, 0\n",
    "    for (_, gt_row) in gt.iterrows():\n",
    "\n",
    "        found_window = False\n",
    "        for (_, pred_row) in pred.iterrows():\n",
    "            t_diff = gt_row[\"linetime\"] - pred_row[\"linetime\"]\n",
    "\n",
    "            if timedelta(minutes=-tolerance_in_minutes) <= t_diff <= timedelta(minutes=tolerance_in_minutes):\n",
    "                found_window = True\n",
    "                break\n",
    "\n",
    "        if found_window:\n",
    "            okay += 1\n",
    "        else:\n",
    "            wrong += 1\n",
    "\n",
    "    recall = okay / (okay+wrong)\n",
    "\n",
    "    # Checks the precision: from all my guesses how many are right?\n",
    "    okay, wrong = 0, 0\n",
    "    for (_, pred_row) in pred.iterrows():\n",
    "        found_window = False\n",
    "        for (_, gt_row) in gt.iterrows():\n",
    "            t_diff = gt_row[\"linetime\"] - pred_row[\"linetime\"]\n",
    "            if timedelta(minutes=-tolerance_in_minutes) <= t_diff <= timedelta(minutes=tolerance_in_minutes):\n",
    "                found_window = True\n",
    "                break\n",
    "            #TODO: take into account when many sleep onset events are close to each other\n",
    "\n",
    "        if found_window:\n",
    "            okay += 1\n",
    "        else:\n",
    "            wrong += 1\n",
    "\n",
    "    precision = okay / (okay+wrong)\n",
    "\n",
    "    if (precision + recall) > 0:\n",
    "        f1 = (2. * precision * recall) / (precision + recall)\n",
    "    else:\n",
    "        f1 = 0\n",
    "\n",
    "    return precision, recall, f1"
   ]
  },
  {
   "cell_type": "code",
   "execution_count": 18,
   "metadata": {},
   "outputs": [],
   "source": [
    "# Add by Fatemeh\n",
    "def calc_eval_metrics_on_windows(df_PSG, df_ML, column):\n",
    "    \n",
    "    \"\"\"\n",
    "    The first argument is ground truth df\n",
    "    the second argumen is the predicted model df\n",
    "    the third argument is the column name which indicate the state of the participant in predicted model, eg: 'sadeh'\n",
    "    \"\"\"\n",
    "    \n",
    "    if len(df_ML) == 0:\n",
    "        return 0, 0, 0\n",
    "    \n",
    "    # recall\n",
    "    tp = 0\n",
    "    actual_true = 0\n",
    "\n",
    "    for i in range(len(df_PSG)):\n",
    "        \n",
    "        if(df_PSG.loc[i, 'sleep'] == 1):\n",
    "            actual_true += 1\n",
    "        if(df_PSG.loc[i, 'sleep'] and df_PSG.loc[i, column]):\n",
    "            tp += 1\n",
    "    \n",
    "    if( actual_true != 0 ):\n",
    "        recall = tp/actual_true\n",
    "        \n",
    "        \n",
    "    # precision\n",
    "    tp = 0\n",
    "    predicted_true = 0\n",
    "\n",
    "    for i in range(len(df_PSG)):\n",
    "        \n",
    "        if(df_PSG.loc[i, column] == 1):\n",
    "            predicted_true += 1\n",
    "        if(df_PSG.loc[i, 'sleep'] and df_PSG.loc[i, column]):\n",
    "            tp += 1\n",
    "        \n",
    "    if( predicted_true != 0 ):\n",
    "        precision = tp/predicted_true\n",
    "    \n",
    "    # f1 score\n",
    "    if (precision + recall) > 0:\n",
    "        f1 = (2. * precision * recall) / (precision + recall)\n",
    "    else:\n",
    "        f1 = 0\n",
    "        \n",
    "    return precision, recall, f1"
   ]
  },
  {
   "cell_type": "code",
   "execution_count": 9,
   "metadata": {
    "ExecuteTime": {
     "end_time": "2021-02-22T19:01:26.399913Z",
     "start_time": "2021-02-22T19:01:26.377124Z"
    }
   },
   "outputs": [
    {
     "data": {
      "text/plain": [
       "(0.5, 0.3333333333333333, 0.4)"
      ]
     },
     "execution_count": 9,
     "metadata": {},
     "output_type": "execute_result"
    }
   ],
   "source": [
    "calc_eval_metrics(gt, pred_sadeh, 60)"
   ]
  },
  {
   "cell_type": "code",
   "execution_count": 15,
   "metadata": {},
   "outputs": [
    {
     "data": {
      "text/plain": [
       "(0.5811965811965812, 0.9898107714701602, 0.732364028002154)"
      ]
     },
     "execution_count": 15,
     "metadata": {},
     "output_type": "execute_result"
    }
   ],
   "source": [
    "#Add by Fatemeh\n",
    "calc_eval_metrics_on_windows(df, pred_sadeh, 'sadeh')"
   ]
  },
  {
   "cell_type": "code",
   "execution_count": 10,
   "metadata": {
    "ExecuteTime": {
     "end_time": "2021-02-22T19:01:26.841254Z",
     "start_time": "2021-02-22T19:01:26.804259Z"
    }
   },
   "outputs": [
    {
     "data": {
      "text/plain": [
       "(0.5, 1.0, 0.6666666666666666)"
      ]
     },
     "execution_count": 10,
     "metadata": {},
     "output_type": "execute_result"
    }
   ],
   "source": [
    "calc_eval_metrics(gt, pred_scripps, 60)"
   ]
  },
  {
   "cell_type": "code",
   "execution_count": 19,
   "metadata": {},
   "outputs": [
    {
     "data": {
      "text/plain": [
       "(0.6199052132701421, 0.9519650655021834, 0.7508610792192881)"
      ]
     },
     "execution_count": 19,
     "metadata": {},
     "output_type": "execute_result"
    }
   ],
   "source": [
    "#Add by Fatemeh\n",
    "calc_eval_metrics_on_windows(df, pred_sadeh, 'scripps')"
   ]
  },
  {
   "cell_type": "code",
   "execution_count": 12,
   "metadata": {
    "ExecuteTime": {
     "end_time": "2021-02-22T19:01:54.423753Z",
     "start_time": "2021-02-22T19:01:32.743821Z"
    }
   },
   "outputs": [],
   "source": [
    "input_files = glob(\"./data/collection_mesa_hr_30_240/*.csv.gz\")\n",
    "\n",
    "ps, rs, f1s = {\"sadeh\": [], \"scripps\": []}, {\"sadeh\": [], \"scripps\": []}, {\"sadeh\": [], \"scripps\": []}\n",
    "for file in input_files:\n",
    "\n",
    "    df = pd.read_csv(file)\n",
    "    df[\"sleep\"] = df[\"stages\"] > 0\n",
    "    df[\"linetime\"] = pd.to_datetime(df[\"linetime\"])\n",
    "    \n",
    "    df[\"sadeh\"] = sadeh_algorithm(df[\"activity\"])\n",
    "    df[\"scripps\"] = scripps_clinic_algorithm(df[\"activity\"])\n",
    "    \n",
    "    for sleep_alg in [\"scripps\", \"sadeh\"]:\n",
    "        pred = df[ground_truth_sleeponset_prediction(df, sleep_alg, 10)]\n",
    "        p, r, f1 = calc_eval_metrics(gt, pred, 20)\n",
    "        ps[sleep_alg].append(p)\n",
    "        rs[sleep_alg].append(r)\n",
    "        f1s[sleep_alg].append(f1)\n",
    "        "
   ]
  },
  {
   "cell_type": "code",
   "execution_count": 13,
   "metadata": {
    "ExecuteTime": {
     "end_time": "2021-02-22T19:01:54.429154Z",
     "start_time": "2021-02-22T19:01:54.425074Z"
    }
   },
   "outputs": [
    {
     "name": "stdout",
     "output_type": "stream",
     "text": [
      "Alg: scripps, Precision: 0.028, Recall: 0.032, F1: 0.028\n",
      "Alg: sadeh, Precision: 0.019, Recall: 0.021, F1: 0.019\n"
     ]
    }
   ],
   "source": [
    "for sleep_alg in [\"scripps\", \"sadeh\"]:\n",
    "    print(\"Alg: %s, Precision: %.3f, Recall: %.3f, F1: %.3f\" % (sleep_alg, np.array(ps[sleep_alg]).mean(),\n",
    "                                                       np.array(rs[sleep_alg]).mean(),\n",
    "                                                       np.array(f1s[sleep_alg]).mean())\n",
    "         )"
   ]
  },
  {
   "cell_type": "code",
   "execution_count": null,
   "metadata": {},
   "outputs": [],
   "source": [
    "# ML NN algorithm\n",
    "# TODO ...\n"
   ]
  }
 ],
 "metadata": {
  "kernelspec": {
   "display_name": "Python 3",
   "language": "python",
   "name": "python3"
  },
  "language_info": {
   "codemirror_mode": {
    "name": "ipython",
    "version": 3
   },
   "file_extension": ".py",
   "mimetype": "text/x-python",
   "name": "python",
   "nbconvert_exporter": "python",
   "pygments_lexer": "ipython3",
   "version": "3.7.4"
  }
 },
 "nbformat": 4,
 "nbformat_minor": 4
}
