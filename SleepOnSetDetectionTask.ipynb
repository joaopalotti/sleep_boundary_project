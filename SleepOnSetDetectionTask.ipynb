{
 "cells": [
  {
   "cell_type": "code",
   "execution_count": 1,
   "metadata": {
    "ExecuteTime": {
     "end_time": "2021-02-22T19:01:03.940194Z",
     "start_time": "2021-02-22T19:01:03.679900Z"
    }
   },
   "outputs": [],
   "source": [
    "import tempfile\n",
    "import pandas as pd\n",
    "pd.set_option('display.max_rows', 100)\n",
    "\n",
    "import numpy as np\n",
    "import os\n",
    "from tqdm import tqdm\n",
    "from glob import glob\n",
    "from datetime import timedelta"
   ]
  },
  {
   "cell_type": "code",
   "execution_count": 3,
   "metadata": {
    "ExecuteTime": {
     "end_time": "2021-02-22T19:01:21.696604Z",
     "start_time": "2021-02-22T19:01:21.658182Z"
    }
   },
   "outputs": [],
   "source": [
    "df = pd.read_csv(\"./data/collection_mesa_hr_30_240/0001_combined.csv.gz\")\n",
    "df[\"sleep\"] = df[\"stages\"] > 0\n",
    "df[\"linetime\"] = pd.to_datetime(df[\"linetime\"])"
   ]
  },
  {
   "cell_type": "code",
   "execution_count": 4,
   "metadata": {
    "ExecuteTime": {
     "end_time": "2021-02-22T19:01:23.433096Z",
     "start_time": "2021-02-22T19:01:23.410398Z"
    }
   },
   "outputs": [],
   "source": [
    "def sadeh_algorithm(activity, min_threshold=0, minNat=50, maxNat=100, window_past=6,\n",
    "                    window_nat=11, window_centered=11):\n",
    "    \"\"\"\n",
    "    Sadeh model for classifying sleep vs active\n",
    "    \"\"\"\n",
    "    act = activity.copy()\n",
    "\n",
    "    _mean = act.rolling(window=window_centered, center=True, min_periods=1).mean()\n",
    "    _std = act.rolling(window=window_past, min_periods=1).std()\n",
    "    _nat = ((act >= minNat) & (act <= maxNat)).rolling(window=window_nat, center=True, min_periods=1).sum()\n",
    "\n",
    "    _LocAct = (act + 1.).apply(np.log)\n",
    "\n",
    "    sadeh = (7.601 - 0.065 * _mean - 0.056 * _std - 0.0703 * _LocAct - 1.08 * _nat)\n",
    "    sadeh.name = \"Sadeh\"\n",
    "\n",
    "    # Returns a series with binary values: 1 for sleep, 0 for awake\n",
    "    return (sadeh > min_threshold).astype(int)\n",
    "\n",
    "df[\"sadeh\"] = sadeh_algorithm(df[\"activity\"])"
   ]
  },
  {
   "cell_type": "code",
   "execution_count": 5,
   "metadata": {
    "ExecuteTime": {
     "end_time": "2021-02-22T19:01:23.828930Z",
     "start_time": "2021-02-22T19:01:23.780559Z"
    }
   },
   "outputs": [],
   "source": [
    "def scripps_clinic_algorithm(activity, scaler=0.204):\n",
    "\n",
    "    act_series = dict()\n",
    "    act_series[\"_a0\"] = activity.fillna(0.0)\n",
    "\n",
    "    # Enrich the dataframe with temporary values\n",
    "    for i in range(1, 11):\n",
    "        act_series[\"_a-%d\" % (i)] = activity.shift(i).fillna(0.0)\n",
    "        act_series[\"_a+%d\" % (i)] = activity.shift(-i).fillna(0.0)\n",
    "\n",
    "    # Calculates Scripps clinic algorithm\n",
    "    scripps = scaler * (0.0064 * act_series[\"_a-10\"] + 0.0074 * act_series[\"_a-9\"] +\n",
    "                        0.0112 * act_series[\"_a-8\"] + 0.0112 * act_series[\"_a-7\"] +\n",
    "                        0.0118 * act_series[\"_a-6\"] + 0.0118 * act_series[\"_a-5\"] +\n",
    "                        0.0128 * act_series[\"_a-4\"] + 0.0188 * act_series[\"_a-3\"] +\n",
    "                        0.0280 * act_series[\"_a-2\"] + 0.0664 * act_series[\"_a-1\"] +\n",
    "                        0.0300 * act_series[\"_a0\"] + 0.0112 * act_series[\"_a+1\"] +\n",
    "                        0.0100 * act_series[\"_a+2\"])\n",
    "\n",
    "    # Returns a series with binary values: 1 for sleep, 0 for awake\n",
    "    return (scripps < 1.0).astype(int)\n",
    "df[\"scripps\"] = scripps_clinic_algorithm(df[\"activity\"])"
   ]
  },
  {
   "cell_type": "code",
   "execution_count": 6,
   "metadata": {
    "ExecuteTime": {
     "end_time": "2021-02-22T19:01:24.240234Z",
     "start_time": "2021-02-22T19:01:24.179699Z"
    }
   },
   "outputs": [
    {
     "data": {
      "text/html": [
       "<div>\n",
       "<style scoped>\n",
       "    .dataframe tbody tr th:only-of-type {\n",
       "        vertical-align: middle;\n",
       "    }\n",
       "\n",
       "    .dataframe tbody tr th {\n",
       "        vertical-align: top;\n",
       "    }\n",
       "\n",
       "    .dataframe thead th {\n",
       "        text-align: right;\n",
       "    }\n",
       "</style>\n",
       "<table border=\"1\" class=\"dataframe\">\n",
       "  <thead>\n",
       "    <tr style=\"text-align: right;\">\n",
       "      <th></th>\n",
       "      <th>activity</th>\n",
       "      <th>linetime</th>\n",
       "      <th>mean_hr</th>\n",
       "      <th>stages</th>\n",
       "      <th>mesaid</th>\n",
       "      <th>sleep</th>\n",
       "      <th>sadeh</th>\n",
       "      <th>scripps</th>\n",
       "    </tr>\n",
       "  </thead>\n",
       "  <tbody>\n",
       "    <tr>\n",
       "      <th>596</th>\n",
       "      <td>0.0</td>\n",
       "      <td>2017-01-06 01:33:30</td>\n",
       "      <td>64.708770</td>\n",
       "      <td>0</td>\n",
       "      <td>1</td>\n",
       "      <td>False</td>\n",
       "      <td>1</td>\n",
       "      <td>1</td>\n",
       "    </tr>\n",
       "    <tr>\n",
       "      <th>705</th>\n",
       "      <td>0.0</td>\n",
       "      <td>2017-01-06 02:32:30</td>\n",
       "      <td>63.972163</td>\n",
       "      <td>0</td>\n",
       "      <td>1</td>\n",
       "      <td>False</td>\n",
       "      <td>1</td>\n",
       "      <td>1</td>\n",
       "    </tr>\n",
       "    <tr>\n",
       "      <th>1197</th>\n",
       "      <td>0.0</td>\n",
       "      <td>2017-01-06 06:42:00</td>\n",
       "      <td>74.989511</td>\n",
       "      <td>0</td>\n",
       "      <td>1</td>\n",
       "      <td>False</td>\n",
       "      <td>1</td>\n",
       "      <td>1</td>\n",
       "    </tr>\n",
       "  </tbody>\n",
       "</table>\n",
       "</div>"
      ],
      "text/plain": [
       "      activity            linetime    mean_hr  stages  mesaid  sleep  sadeh  \\\n",
       "596        0.0 2017-01-06 01:33:30  64.708770       0       1  False      1   \n",
       "705        0.0 2017-01-06 02:32:30  63.972163       0       1  False      1   \n",
       "1197       0.0 2017-01-06 06:42:00  74.989511       0       1  False      1   \n",
       "\n",
       "      scripps  \n",
       "596         1  \n",
       "705         1  \n",
       "1197        1  "
      ]
     },
     "execution_count": 6,
     "metadata": {},
     "output_type": "execute_result"
    }
   ],
   "source": [
    "def ground_truth_sleeponset_prediction(df, col=\"sleep\", number_consec_epochs=10):\n",
    "    \"\"\" Sleep col is 1 if subject is sleeping and 0 otherwise.\n",
    "        The ground truth would be at least 10 awakes, then sleep onset, and at least 10 sleeps.\n",
    "        Or.... 10 Falses followed by 10 Trues\n",
    "    \n",
    "    \"\"\"\n",
    "    # Gets the average label in the past X (=10) epochs. \n",
    "    # A mean value of 10 here means that the subject was sleeping for at least 10 consecutive epochs\n",
    "    rolling_mean = df[col].rolling(number_consec_epochs).mean()\n",
    "    \n",
    "    rolling_mean_p10  = rolling_mean.shift(-(number_consec_epochs))\n",
    "    \n",
    "    return (rolling_mean <= 0) & (rolling_mean_p10 >= 1)\n",
    "\n",
    "gt = df[ground_truth_sleeponset_prediction(df, \"sleep\", 10)]\n",
    "gt"
   ]
  },
  {
   "cell_type": "code",
   "execution_count": 7,
   "metadata": {
    "ExecuteTime": {
     "end_time": "2021-02-22T19:01:24.647831Z",
     "start_time": "2021-02-22T19:01:24.608176Z"
    }
   },
   "outputs": [
    {
     "data": {
      "text/html": [
       "<div>\n",
       "<style scoped>\n",
       "    .dataframe tbody tr th:only-of-type {\n",
       "        vertical-align: middle;\n",
       "    }\n",
       "\n",
       "    .dataframe tbody tr th {\n",
       "        vertical-align: top;\n",
       "    }\n",
       "\n",
       "    .dataframe thead th {\n",
       "        text-align: right;\n",
       "    }\n",
       "</style>\n",
       "<table border=\"1\" class=\"dataframe\">\n",
       "  <thead>\n",
       "    <tr style=\"text-align: right;\">\n",
       "      <th></th>\n",
       "      <th>activity</th>\n",
       "      <th>linetime</th>\n",
       "      <th>mean_hr</th>\n",
       "      <th>stages</th>\n",
       "      <th>mesaid</th>\n",
       "      <th>sleep</th>\n",
       "      <th>sadeh</th>\n",
       "      <th>scripps</th>\n",
       "    </tr>\n",
       "  </thead>\n",
       "  <tbody>\n",
       "    <tr>\n",
       "      <th>173</th>\n",
       "      <td>0.0</td>\n",
       "      <td>2017-01-05 21:56:30</td>\n",
       "      <td>71.845511</td>\n",
       "      <td>1</td>\n",
       "      <td>1</td>\n",
       "      <td>True</td>\n",
       "      <td>1</td>\n",
       "      <td>0</td>\n",
       "    </tr>\n",
       "    <tr>\n",
       "      <th>248</th>\n",
       "      <td>0.0</td>\n",
       "      <td>2017-01-05 22:35:00</td>\n",
       "      <td>70.047317</td>\n",
       "      <td>0</td>\n",
       "      <td>1</td>\n",
       "      <td>False</td>\n",
       "      <td>1</td>\n",
       "      <td>0</td>\n",
       "    </tr>\n",
       "    <tr>\n",
       "      <th>304</th>\n",
       "      <td>0.0</td>\n",
       "      <td>2017-01-05 23:04:30</td>\n",
       "      <td>73.590180</td>\n",
       "      <td>0</td>\n",
       "      <td>1</td>\n",
       "      <td>False</td>\n",
       "      <td>1</td>\n",
       "      <td>0</td>\n",
       "    </tr>\n",
       "    <tr>\n",
       "      <th>588</th>\n",
       "      <td>0.0</td>\n",
       "      <td>2017-01-06 01:29:30</td>\n",
       "      <td>68.790494</td>\n",
       "      <td>0</td>\n",
       "      <td>1</td>\n",
       "      <td>False</td>\n",
       "      <td>1</td>\n",
       "      <td>0</td>\n",
       "    </tr>\n",
       "    <tr>\n",
       "      <th>813</th>\n",
       "      <td>0.0</td>\n",
       "      <td>2017-01-06 03:27:00</td>\n",
       "      <td>63.023003</td>\n",
       "      <td>4</td>\n",
       "      <td>1</td>\n",
       "      <td>True</td>\n",
       "      <td>1</td>\n",
       "      <td>0</td>\n",
       "    </tr>\n",
       "    <tr>\n",
       "      <th>1143</th>\n",
       "      <td>0.0</td>\n",
       "      <td>2017-01-06 06:15:00</td>\n",
       "      <td>67.434649</td>\n",
       "      <td>0</td>\n",
       "      <td>1</td>\n",
       "      <td>False</td>\n",
       "      <td>1</td>\n",
       "      <td>0</td>\n",
       "    </tr>\n",
       "  </tbody>\n",
       "</table>\n",
       "</div>"
      ],
      "text/plain": [
       "      activity            linetime    mean_hr  stages  mesaid  sleep  sadeh  \\\n",
       "173        0.0 2017-01-05 21:56:30  71.845511       1       1   True      1   \n",
       "248        0.0 2017-01-05 22:35:00  70.047317       0       1  False      1   \n",
       "304        0.0 2017-01-05 23:04:30  73.590180       0       1  False      1   \n",
       "588        0.0 2017-01-06 01:29:30  68.790494       0       1  False      1   \n",
       "813        0.0 2017-01-06 03:27:00  63.023003       4       1   True      1   \n",
       "1143       0.0 2017-01-06 06:15:00  67.434649       0       1  False      1   \n",
       "\n",
       "      scripps  \n",
       "173         0  \n",
       "248         0  \n",
       "304         0  \n",
       "588         0  \n",
       "813         0  \n",
       "1143        0  "
      ]
     },
     "execution_count": 7,
     "metadata": {},
     "output_type": "execute_result"
    }
   ],
   "source": [
    "pred_scripps = df[ground_truth_sleeponset_prediction(df, \"scripps\", 10)]\n",
    "pred_scripps"
   ]
  },
  {
   "cell_type": "code",
   "execution_count": 8,
   "metadata": {
    "ExecuteTime": {
     "end_time": "2021-02-22T19:01:25.109058Z",
     "start_time": "2021-02-22T19:01:25.071188Z"
    }
   },
   "outputs": [
    {
     "data": {
      "text/html": [
       "<div>\n",
       "<style scoped>\n",
       "    .dataframe tbody tr th:only-of-type {\n",
       "        vertical-align: middle;\n",
       "    }\n",
       "\n",
       "    .dataframe tbody tr th {\n",
       "        vertical-align: top;\n",
       "    }\n",
       "\n",
       "    .dataframe thead th {\n",
       "        text-align: right;\n",
       "    }\n",
       "</style>\n",
       "<table border=\"1\" class=\"dataframe\">\n",
       "  <thead>\n",
       "    <tr style=\"text-align: right;\">\n",
       "      <th></th>\n",
       "      <th>activity</th>\n",
       "      <th>linetime</th>\n",
       "      <th>mean_hr</th>\n",
       "      <th>stages</th>\n",
       "      <th>mesaid</th>\n",
       "      <th>sleep</th>\n",
       "      <th>sadeh</th>\n",
       "      <th>scripps</th>\n",
       "    </tr>\n",
       "  </thead>\n",
       "  <tbody>\n",
       "    <tr>\n",
       "      <th>107</th>\n",
       "      <td>29.0</td>\n",
       "      <td>2017-01-05 21:23:30</td>\n",
       "      <td>73.717111</td>\n",
       "      <td>0</td>\n",
       "      <td>1</td>\n",
       "      <td>False</td>\n",
       "      <td>0</td>\n",
       "      <td>0</td>\n",
       "    </tr>\n",
       "    <tr>\n",
       "      <th>583</th>\n",
       "      <td>5.0</td>\n",
       "      <td>2017-01-06 01:27:00</td>\n",
       "      <td>68.183903</td>\n",
       "      <td>0</td>\n",
       "      <td>1</td>\n",
       "      <td>False</td>\n",
       "      <td>0</td>\n",
       "      <td>0</td>\n",
       "    </tr>\n",
       "  </tbody>\n",
       "</table>\n",
       "</div>"
      ],
      "text/plain": [
       "     activity            linetime    mean_hr  stages  mesaid  sleep  sadeh  \\\n",
       "107      29.0 2017-01-05 21:23:30  73.717111       0       1  False      0   \n",
       "583       5.0 2017-01-06 01:27:00  68.183903       0       1  False      0   \n",
       "\n",
       "     scripps  \n",
       "107        0  \n",
       "583        0  "
      ]
     },
     "execution_count": 8,
     "metadata": {},
     "output_type": "execute_result"
    }
   ],
   "source": [
    "pred_sadeh = df[ground_truth_sleeponset_prediction(df, \"sadeh\", 10)]\n",
    "pred_sadeh "
   ]
  },
  {
   "cell_type": "code",
   "execution_count": 9,
   "metadata": {
    "ExecuteTime": {
     "end_time": "2021-02-22T19:01:25.649871Z",
     "start_time": "2021-02-22T19:01:25.629788Z"
    }
   },
   "outputs": [],
   "source": [
    "def calc_eval_metrics(gt, pred, tolerance_in_minutes=5):\n",
    "    \n",
    "    if len(pred) == 0:\n",
    "        return 0, 0, 0\n",
    "    \n",
    "    # Checks the recall: from all possible events how many I could find?\n",
    "    okay, wrong = 0, 0\n",
    "    for (_, gt_row) in gt.iterrows():\n",
    "\n",
    "        found_window = False\n",
    "        for (_, pred_row) in pred.iterrows():\n",
    "            t_diff = gt_row[\"linetime\"] - pred_row[\"linetime\"]\n",
    "\n",
    "            if timedelta(minutes=-tolerance_in_minutes) <= t_diff <= timedelta(minutes=tolerance_in_minutes):\n",
    "                found_window = True\n",
    "                break\n",
    "\n",
    "        if found_window:\n",
    "            okay += 1\n",
    "        else:\n",
    "            wrong += 1\n",
    "\n",
    "    recall = okay / (okay+wrong)\n",
    "\n",
    "    # Checks the precision: from all my guesses how many are right?\n",
    "    okay, wrong = 0, 0\n",
    "    for (_, pred_row) in pred.iterrows():\n",
    "        found_window = False\n",
    "        for (_, gt_row) in gt.iterrows():\n",
    "            t_diff = gt_row[\"linetime\"] - pred_row[\"linetime\"]\n",
    "            if timedelta(minutes=-tolerance_in_minutes) <= t_diff <= timedelta(minutes=tolerance_in_minutes):\n",
    "                found_window = True\n",
    "                break\n",
    "            #TODO: take into account when many sleep onset events are close to each other\n",
    "\n",
    "        if found_window:\n",
    "            okay += 1\n",
    "        else:\n",
    "            wrong += 1\n",
    "\n",
    "    precision = okay / (okay+wrong)\n",
    "\n",
    "    if (precision + recall) > 0:\n",
    "        f1 = (2. * precision * recall) / (precision + recall)\n",
    "    else:\n",
    "        f1 = 0\n",
    "\n",
    "    return precision, recall, f1"
   ]
  },
  {
   "cell_type": "code",
   "execution_count": 10,
   "metadata": {
    "ExecuteTime": {
     "end_time": "2021-02-22T19:01:26.399913Z",
     "start_time": "2021-02-22T19:01:26.377124Z"
    }
   },
   "outputs": [
    {
     "data": {
      "text/plain": [
       "(0.5, 0.3333333333333333, 0.4)"
      ]
     },
     "execution_count": 10,
     "metadata": {},
     "output_type": "execute_result"
    }
   ],
   "source": [
    "calc_eval_metrics(gt, pred_sadeh, 60)"
   ]
  },
  {
   "cell_type": "code",
   "execution_count": 11,
   "metadata": {
    "ExecuteTime": {
     "end_time": "2021-02-22T19:01:26.841254Z",
     "start_time": "2021-02-22T19:01:26.804259Z"
    }
   },
   "outputs": [
    {
     "data": {
      "text/plain": [
       "(0.5, 1.0, 0.6666666666666666)"
      ]
     },
     "execution_count": 11,
     "metadata": {},
     "output_type": "execute_result"
    }
   ],
   "source": [
    "calc_eval_metrics(gt, pred_scripps, 60)"
   ]
  },
  {
   "cell_type": "code",
   "execution_count": 12,
   "metadata": {
    "ExecuteTime": {
     "end_time": "2021-02-22T19:01:54.423753Z",
     "start_time": "2021-02-22T19:01:32.743821Z"
    }
   },
   "outputs": [],
   "source": [
    "input_files = glob(\"./data/collection_mesa_hr_30_240/*.csv.gz\")\n",
    "\n",
    "ps, rs, f1s = {\"sadeh\": [], \"scripps\": []}, {\"sadeh\": [], \"scripps\": []}, {\"sadeh\": [], \"scripps\": []}\n",
    "for file in input_files:\n",
    "\n",
    "    df = pd.read_csv(file)\n",
    "    df[\"sleep\"] = df[\"stages\"] > 0\n",
    "    df[\"linetime\"] = pd.to_datetime(df[\"linetime\"])\n",
    "    \n",
    "    df[\"sadeh\"] = sadeh_algorithm(df[\"activity\"])\n",
    "    df[\"scripps\"] = scripps_clinic_algorithm(df[\"activity\"])\n",
    "    \n",
    "    for sleep_alg in [\"scripps\", \"sadeh\"]:\n",
    "        pred = df[ground_truth_sleeponset_prediction(df, sleep_alg, 10)]\n",
    "        p, r, f1 = calc_eval_metrics(gt, pred, 20)\n",
    "        ps[sleep_alg].append(p)\n",
    "        rs[sleep_alg].append(r)\n",
    "        f1s[sleep_alg].append(f1)\n",
    "        "
   ]
  },
  {
   "cell_type": "code",
   "execution_count": 13,
   "metadata": {
    "ExecuteTime": {
     "end_time": "2021-02-22T19:01:54.429154Z",
     "start_time": "2021-02-22T19:01:54.425074Z"
    }
   },
   "outputs": [
    {
     "name": "stdout",
     "output_type": "stream",
     "text": [
      "Alg: scripps, Precision: 0.028, Recall: 0.032, F1: 0.028\n",
      "Alg: sadeh, Precision: 0.019, Recall: 0.021, F1: 0.019\n"
     ]
    }
   ],
   "source": [
    "for sleep_alg in [\"scripps\", \"sadeh\"]:\n",
    "    print(\"Alg: %s, Precision: %.3f, Recall: %.3f, F1: %.3f\" % (sleep_alg, np.array(ps[sleep_alg]).mean(),\n",
    "                                                       np.array(rs[sleep_alg]).mean(),\n",
    "                                                       np.array(f1s[sleep_alg]).mean())\n",
    "         )"
   ]
  },
  {
   "cell_type": "code",
   "execution_count": null,
   "metadata": {},
   "outputs": [],
   "source": [
    "# ML NN algorithm\n",
    "# TODO ...\n"
   ]
  }
 ],
 "metadata": {
  "kernelspec": {
   "display_name": "Python 3",
   "language": "python",
   "name": "python3"
  },
  "language_info": {
   "codemirror_mode": {
    "name": "ipython",
    "version": 3
   },
   "file_extension": ".py",
   "mimetype": "text/x-python",
   "name": "python",
   "nbconvert_exporter": "python",
   "pygments_lexer": "ipython3",
   "version": "3.8.3"
  }
 },
 "nbformat": 4,
 "nbformat_minor": 4
}
